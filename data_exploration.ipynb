{
 "cells": [
  {
   "cell_type": "markdown",
   "metadata": {},
   "source": [
    "# Data exploration"
   ]
  },
  {
   "cell_type": "code",
   "execution_count": 2,
   "metadata": {},
   "outputs": [],
   "source": [
    "import pandas as pd\n",
    "import numpy as np\n",
    "import matplotlib.pyplot as plt\n",
    "import seaborn as sns\n",
    "import urllib3"
   ]
  },
  {
   "cell_type": "markdown",
   "metadata": {},
   "source": [
    "Data extracted on Thursday 28th, October 2021 at 1:03 PM from Crunchbase Research."
   ]
  },
  {
   "cell_type": "code",
   "execution_count": 3,
   "metadata": {},
   "outputs": [],
   "source": [
    "extracted_year = 2021"
   ]
  },
  {
   "cell_type": "markdown",
   "metadata": {},
   "source": [
    "## Load tables"
   ]
  },
  {
   "cell_type": "code",
   "execution_count": 100,
   "metadata": {},
   "outputs": [],
   "source": [
    "# Tables we will use\n",
    "people_df = pd.read_csv('data/people.csv')\n",
    "organizations_df = pd.read_csv('data/organizations.csv')\n",
    "jobs_df = pd.read_csv('data/jobs.csv')\n",
    "investors_df = pd.read_csv('data/investors.csv')\n",
    "funding_rounds_df = pd.read_csv('data/funding_rounds.csv')\n",
    "degrees_df = pd.read_csv('data/degrees.csv')\n",
    "\n",
    "category_groups_df = pd.read_csv('data/category_groups.csv')"
   ]
  },
  {
   "cell_type": "code",
   "execution_count": null,
   "metadata": {},
   "outputs": [],
   "source": [
    "# Useless tables\n",
    "organization_descriptions_df = pd.read_csv('data/organization_descriptions.csv')\n",
    "people_descriptions_df = pd.read_csv('data/people_descriptions.csv')\n",
    "check_sum_df = pd.read_csv('data/checksum.csv')\n",
    "event_appearances_df = pd.read_csv('data/event_appearances.csv')\n",
    "ipos_df = pd.read_csv('data/ipos.csv')\n",
    "acquisitions_df = pd.read_csv('data/acquisitions.csv')\n",
    "investments_df = pd.read_csv('data/investments.csv')\n",
    "funds_df = pd.read_csv('data/funds.csv')\n",
    "org_parents = pd.read_csv('data/org_parents.csv')\n",
    "events = pd.read_csv('data/events.csv')\n",
    "investment_partners_df = pd.read_csv('data/investment_partners.csv')"
   ]
  },
  {
   "cell_type": "markdown",
   "metadata": {},
   "source": [
    "## Preliminary table selection"
   ]
  },
  {
   "cell_type": "markdown",
   "metadata": {},
   "source": [
    "The goal of this step is to figure which tables contain meaningful data for our analysis. The tables that do not make the cut will not be used further."
   ]
  },
  {
   "cell_type": "markdown",
   "metadata": {},
   "source": [
    "### People-related tables"
   ]
  },
  {
   "cell_type": "code",
   "execution_count": null,
   "metadata": {},
   "outputs": [],
   "source": [
    "# print(people_df.columns.values)\n",
    "# people_df.head()"
   ]
  },
  {
   "cell_type": "markdown",
   "metadata": {},
   "source": [
    "The table <code>people_df</code> contains potentially good information like rank, region, city, etc. Furthermore, we can join this table with some other ones like <code>organizations_df</code> or <code>investors_df</code>. We will keep using this so far."
   ]
  },
  {
   "cell_type": "code",
   "execution_count": null,
   "metadata": {},
   "outputs": [],
   "source": [
    "#print(people_descriptions_df.columns.values)\n",
    "#people_descriptions_df.head()"
   ]
  },
  {
   "cell_type": "markdown",
   "metadata": {},
   "source": [
    "The table <code>people_descriptions_df</code> mostly contains text description of what each company does. While this might be useful for a model that leverages NLP, that is out of the scope of our project"
   ]
  },
  {
   "cell_type": "code",
   "execution_count": null,
   "metadata": {},
   "outputs": [],
   "source": [
    "# print(ipos_df.columns.values)\n",
    "#ipos_df.head()"
   ]
  },
  {
   "cell_type": "markdown",
   "metadata": {},
   "source": [
    "The table <code>jobs_df</code> contains useful information regarding the people that work on the company. We can leverage this table to find information regarding the founders."
   ]
  },
  {
   "cell_type": "code",
   "execution_count": null,
   "metadata": {},
   "outputs": [],
   "source": [
    "# print(degrees_df.columns.values)\n",
    "# degrees_df.head()"
   ]
  },
  {
   "cell_type": "markdown",
   "metadata": {},
   "source": [
    "The table <code>degrees_df</code> contains information regarding the degrees of people. We can use this information to see where founders and early employees went to school."
   ]
  },
  {
   "cell_type": "markdown",
   "metadata": {},
   "source": [
    "### Organization-related tables"
   ]
  },
  {
   "cell_type": "code",
   "execution_count": null,
   "metadata": {},
   "outputs": [],
   "source": [
    "# print(organizations_df.columns.values)\n",
    "# organizations_df.head()"
   ]
  },
  {
   "cell_type": "markdown",
   "metadata": {},
   "source": [
    "The table <code>organizations_df</code> contains potentially good information like rank, status, category_list, total_funding etc. Furthermore, we can join this table with some other ones like <code>people_df</code> or <code>investors_df</code>. We will keep using this so far."
   ]
  },
  {
   "cell_type": "code",
   "execution_count": null,
   "metadata": {},
   "outputs": [],
   "source": [
    "# print(organization_descriptions_df.columns.values)\n",
    "# organization_descriptions_df.head()"
   ]
  },
  {
   "cell_type": "markdown",
   "metadata": {},
   "source": [
    "The table <code>organization_descriptions_df</code> mostly contains text description of what each company does. While this might be useful for a model that leverages NLP, that is out of the scope of our project."
   ]
  },
  {
   "cell_type": "code",
   "execution_count": null,
   "metadata": {},
   "outputs": [],
   "source": [
    "# print(org_parents_df.columns.values)\n",
    "# org_parents_df.head()"
   ]
  },
  {
   "cell_type": "markdown",
   "metadata": {},
   "source": [
    "The table <code>org_parents_df</code> mostly contains information about parent and child companies. This information is not relevant for our analysis."
   ]
  },
  {
   "cell_type": "code",
   "execution_count": null,
   "metadata": {},
   "outputs": [],
   "source": [
    "# print(jobs_df.columns.values)\n",
    "# jobs_df.head()"
   ]
  },
  {
   "cell_type": "markdown",
   "metadata": {},
   "source": [
    "The table <code>ipos_df</code> is an extremely important one as it contains useful information about companies that exited through an IPO."
   ]
  },
  {
   "cell_type": "code",
   "execution_count": null,
   "metadata": {},
   "outputs": [],
   "source": [
    "# print(acquisitions_df.columns.values)\n",
    "# acquisitions_df.head()"
   ]
  },
  {
   "cell_type": "markdown",
   "metadata": {},
   "source": [
    "We do not need the table <code>acquisitions_df</code> as <code>organizations_df</code> already tells us whether a company has been acquired."
   ]
  },
  {
   "cell_type": "markdown",
   "metadata": {},
   "source": [
    "### Investment/funding-related tables"
   ]
  },
  {
   "cell_type": "code",
   "execution_count": null,
   "metadata": {},
   "outputs": [],
   "source": [
    "# print(investors_df.columns.values)\n",
    "# investors_df.head()"
   ]
  },
  {
   "cell_type": "markdown",
   "metadata": {},
   "source": [
    "The table <code>investors_df</code> contains information regarding investors including domain, total money invested, investment count, etc. We will use it in our analysis."
   ]
  },
  {
   "cell_type": "code",
   "execution_count": null,
   "metadata": {},
   "outputs": [],
   "source": [
    "# print(investments_df.columns.values)\n",
    "# investments_df.head()"
   ]
  },
  {
   "cell_type": "markdown",
   "metadata": {},
   "source": [
    "The table <code>investments_df</code> contains information regarding particular investments including funding round, investor name, etc. While this information might be useful, it is already included in other tables like <code>funding_rounds_df</code> and <code>investors_df</code>"
   ]
  },
  {
   "cell_type": "code",
   "execution_count": null,
   "metadata": {},
   "outputs": [],
   "source": [
    "# print(funding_rounds_df.columns.values)\n",
    "# funding_rounds_df.head()"
   ]
  },
  {
   "cell_type": "markdown",
   "metadata": {},
   "source": [
    "The table <code>funding_rounds_df</code> contains information regarding particular founding rounds including investor name, investor count, year, raised amount, etc. This table might come in handy later."
   ]
  },
  {
   "cell_type": "code",
   "execution_count": null,
   "metadata": {},
   "outputs": [],
   "source": [
    "# print(funds_df.columns.values)\n",
    "# funds_df.head()"
   ]
  },
  {
   "cell_type": "markdown",
   "metadata": {},
   "source": [
    "The table <code>funds_df</code> contains information regarding investment funds including domain, total money raised, investment count, etc. This information is not relevant for our analysis as it does not shed any light on investment decisions."
   ]
  },
  {
   "cell_type": "code",
   "execution_count": null,
   "metadata": {},
   "outputs": [],
   "source": [
    "# print(investment_partners_df.columns.values)\n",
    "# investment_partners_df.head()"
   ]
  },
  {
   "cell_type": "markdown",
   "metadata": {},
   "source": [
    "The table <code>investment_partners</code> contains information regarding the partners that led each investment. While this information might be really interesting, we are not looking for this level of granularity in our analysis. Because of that, we will not use this table moving forward."
   ]
  },
  {
   "cell_type": "markdown",
   "metadata": {},
   "source": [
    "### Events-related tables"
   ]
  },
  {
   "cell_type": "markdown",
   "metadata": {},
   "source": [
    "The following tables include information about different entrepreneurship/tech events awnd which companies attended. We beleive"
   ]
  },
  {
   "cell_type": "code",
   "execution_count": null,
   "metadata": {},
   "outputs": [],
   "source": [
    "# print(event_appearances_df.columns.values)\n",
    "# event_appearances_df.head()"
   ]
  },
  {
   "cell_type": "code",
   "execution_count": null,
   "metadata": {},
   "outputs": [],
   "source": [
    "# print(events_df.columns.values)\n",
    "# events.head()"
   ]
  },
  {
   "cell_type": "markdown",
   "metadata": {},
   "source": [
    "## Preliminary data cleaning"
   ]
  },
  {
   "cell_type": "markdown",
   "metadata": {},
   "source": [
    "### Some helper functions"
   ]
  },
  {
   "cell_type": "code",
   "execution_count": null,
   "metadata": {},
   "outputs": [],
   "source": [
    "# Define a function that checks if an entry is positions\n",
    "def check_position(entry, positions,s=' '):\n",
    "    ans = [word.lower() in positions for word in str(entry).split(s)]\n",
    "    return min(1, sum(ans))\n",
    "\n",
    "\n",
    "# Define a function that checks if a company was founded within a range\n",
    "def founded_on(entry, years):\n",
    "    year = int(entry[0:4])\n",
    "    return years[0] <= year and year <= years[1]\n",
    "    \n",
    "# Define a function that checks if a company url is still active\n",
    "http = urllib3.PoolManager()\n",
    "def still_active(url):\n",
    "    \n",
    "    try:\n",
    "        r = http.request('GET', url)\n",
    "        \n",
    "        print(r.status)\n",
    "        return r.status == 200\n",
    "    except:\n",
    "        return False"
   ]
  },
  {
   "cell_type": "markdown",
   "metadata": {},
   "source": [
    "### People_df"
   ]
  },
  {
   "cell_type": "code",
   "execution_count": 103,
   "metadata": {},
   "outputs": [],
   "source": [
    "people_df = people_df.drop(columns=['permalink','cb_url','created_at','updated_at',\n",
    "                                    'state_code','region','city','facebook_url',\n",
    "                                    'linkedin_url','twitter_url','logo_url'])"
   ]
  },
  {
   "cell_type": "markdown",
   "metadata": {},
   "source": [
    "### Organizations_df"
   ]
  },
  {
   "cell_type": "code",
   "execution_count": 104,
   "metadata": {},
   "outputs": [],
   "source": [
    "organizations_df = organizations_df.drop(columns=['permalink','cb_url','created_at','updated_at',\n",
    "                                                  'legal_name','phone','short_description','email',\n",
    "                                                  'phone','facebook_url','linkedin_url','twitter_url',\n",
    "                                                  'logo_url','alias1','alias2','alias3','primary_role',\n",
    "                                                  'num_exits','rank','total_funding','total_funding_currency_code']) "
   ]
  },
  {
   "cell_type": "code",
   "execution_count": null,
   "metadata": {},
   "outputs": [],
   "source": [
    "# Get organizations in the USA\n",
    "cond1 = organizations_df['country_code'] == 'USA'\n",
    "\n",
    "# Organizations_dfies founded between 1995 and 2000 in the USA\n",
    "\n",
    "# We drop all those with nan values\n",
    "organizations_df = organizations_df.dropna(subset=['founded_on'])\n",
    "founded_95_15 = lambda x: founded_on(x,[1995,2015])\n",
    "cond2 = organizations_df['founded_on'].map(founded_95_15)\n",
    "\n",
    "organizations_df = organizations_df[cond1 & cond2]\n",
    "\n",
    "# Only keep companies, filter out all investment funds\n",
    "#check_company = lambda x: check_position(x,['company'],',')\n",
    "\n",
    "cond = organizations_df['roles'].map(check_company).astype(bool)\n",
    "organizations_df = organizations_df[cond]\n",
    "\n",
    "# Get which website domains are still working\n",
    "organizations_df['active_homepage'] = organizations_df['homepage_url'].map(still_active).astype(bool)"
   ]
  },
  {
   "cell_type": "markdown",
   "metadata": {},
   "source": [
    "### Jobs_df"
   ]
  },
  {
   "cell_type": "code",
   "execution_count": null,
   "metadata": {},
   "outputs": [],
   "source": [
    "#jobs_df = jobs_df.drop(columns=['permalink','cb_url','rank','created_at','updated_at'])\n",
    "jobs_df['started_on']= pd.to_datetime(jobs_df['started_on'],errors = 'coerce')"
   ]
  },
  {
   "cell_type": "code",
   "execution_count": null,
   "metadata": {},
   "outputs": [],
   "source": [
    "# We drop titles with NaN\n",
    "jobs_df = jobs_df[jobs_df['title'].notna()]\n",
    "\n",
    "# Define functions to check if_founder or if_ceo\n",
    "check_founder = lambda x: check_position(x, ['founder','co-founder'])\n",
    "check_ceo = lambda x: check_position(x, ['ceo'])\n",
    "\n",
    "# Create new columns for is_founder and is_ceo\n",
    "jobs_df['is_founder'] = jobs_df['title'].map(check_founder).astype(bool)\n",
    "jobs_df['is_current_ceo'] = jobs_df['title'].map(check_ceo) & jobs_df['is_current']\n",
    "\n",
    "# Drop all but founders and current CEO\n",
    "cond = jobs_df['is_founder']  | jobs_df['is_current_ceo']\n",
    "jobs_df = jobs_df[cond.astype(bool)]\n",
    "\n",
    "# We want to calculate how many are previously founders\n",
    "founders_df = jobs_df[jobs_df['is_founder'] == 1]\n",
    "serial_founders_df = founders_df.groupby(by=['person_uuid'])\\\n",
    "                                .agg({\"org_uuid\": pd.Series.nunique, 'started_on':'min'})\\\n",
    "                                .reset_index()\\\n",
    "                                .rename(columns={'org_uuid':'number_founded', 'started_on':'first_venture_on'})\n",
    "\n",
    "# Merge tables\n",
    "jobs2_df = jobs_df.merge(serial_founders_df,how='left',on='person_uuid')\n",
    "\n",
    "# We determine whether a founder was a veteran founder at the time each venture was founded\n",
    "cond1 = jobs2_df['is_founder'] == True\n",
    "cond2 = jobs2_df['number_founded'] > 1\n",
    "cond3 = jobs2_df['first_on'] < jobs2_df['started_on']\n",
    "\n",
    "jobs2_df['veteran_founder'] = cond1 & cond2 & cond3\n",
    "\n",
    "# Get rid of unnecessary columns\n",
    "jobs2_df = jobs2_df.drop(columns=['uuid','name','type','person_name','org_name','ended_on','title','job_type'])"
   ]
  },
  {
   "cell_type": "code",
   "execution_count": null,
   "metadata": {},
   "outputs": [],
   "source": [
    "jobs2_df"
   ]
  },
  {
   "cell_type": "markdown",
   "metadata": {},
   "source": [
    "### Investors_df"
   ]
  },
  {
   "cell_type": "code",
   "execution_count": 106,
   "metadata": {},
   "outputs": [],
   "source": [
    "investors_df = investors_df.drop(columns=['permalink','cb_url','rank','created_at',\n",
    "                                          'updated_at','domain','country_code','state_code','region','city',\n",
    "                                          'founded_on','closed_on','facebook_url',\n",
    "                                          'linkedin_url','twitter_url','logo_url',\n",
    "                                          'total_funding_usd', 'total_funding', 'total_funding_currency_code'])"
   ]
  },
  {
   "cell_type": "code",
   "execution_count": 107,
   "metadata": {},
   "outputs": [],
   "source": [
    "#investors_df"
   ]
  },
  {
   "cell_type": "markdown",
   "metadata": {},
   "source": [
    "### Funding_rounds_df"
   ]
  },
  {
   "cell_type": "code",
   "execution_count": 112,
   "metadata": {},
   "outputs": [],
   "source": [
    "funding_rounds_df = funding_rounds_df.drop(columns=['permalink','cb_url','rank','created_at',\n",
    "                                                    'updated_at','country_code','state_code',\n",
    "                                                    'region','city','announced_on','post_money_valuation',\n",
    "                                                    'post_money_valuation_currency_code',\n",
    "                                                   'raised_amount', 'raised_amount_currency_code','post_money_valuation_usd'])"
   ]
  },
  {
   "cell_type": "code",
   "execution_count": 113,
   "metadata": {},
   "outputs": [],
   "source": [
    "# Exclude all rounds taking place after Series B\n",
    "rounds = ['angel', 'seed', 'series_a', 'series_b']\n",
    "check_rounds = lambda x: x in rounds\n",
    "\n",
    "cond = funding_rounds_df['investment_type'].map(check_rounds)\n",
    "funding_rounds_df = funding_rounds_df[cond]\n",
    "\n",
    "# We create an indicator variable to see if an investment round had a lead_investor\n",
    "# True means the round had a lead investor\n",
    "funding_rounds_df['lead_investor_ind'] = ~(funding_rounds_df['lead_investor_uuids'].isna())"
   ]
  },
  {
   "cell_type": "code",
   "execution_count": 114,
   "metadata": {},
   "outputs": [
    {
     "data": {
      "text/html": [
       "<div>\n",
       "<style scoped>\n",
       "    .dataframe tbody tr th:only-of-type {\n",
       "        vertical-align: middle;\n",
       "    }\n",
       "\n",
       "    .dataframe tbody tr th {\n",
       "        vertical-align: top;\n",
       "    }\n",
       "\n",
       "    .dataframe thead th {\n",
       "        text-align: right;\n",
       "    }\n",
       "</style>\n",
       "<table border=\"1\" class=\"dataframe\">\n",
       "  <thead>\n",
       "    <tr style=\"text-align: right;\">\n",
       "      <th></th>\n",
       "      <th>uuid</th>\n",
       "      <th>name</th>\n",
       "      <th>type</th>\n",
       "      <th>investment_type</th>\n",
       "      <th>raised_amount_usd</th>\n",
       "      <th>investor_count</th>\n",
       "      <th>org_uuid</th>\n",
       "      <th>org_name</th>\n",
       "      <th>lead_investor_uuids</th>\n",
       "      <th>lead_investor_ind</th>\n",
       "    </tr>\n",
       "  </thead>\n",
       "  <tbody>\n",
       "    <tr>\n",
       "      <th>0</th>\n",
       "      <td>8a945939-18e0-cc9d-27b9-bf33817b2818</td>\n",
       "      <td>Angel Round - Facebook</td>\n",
       "      <td>funding_round</td>\n",
       "      <td>angel</td>\n",
       "      <td>500000.0</td>\n",
       "      <td>4.0</td>\n",
       "      <td>df662812-7f97-0b43-9d3e-12f64f504fbb</td>\n",
       "      <td>Facebook</td>\n",
       "      <td>3f47be49-2e32-8118-01a0-31685a4d0fd7</td>\n",
       "      <td>True</td>\n",
       "    </tr>\n",
       "    <tr>\n",
       "      <th>1</th>\n",
       "      <td>d950d7a5-79ff-fb93-ca87-13386b0e2feb</td>\n",
       "      <td>Series A - Facebook</td>\n",
       "      <td>funding_round</td>\n",
       "      <td>series_a</td>\n",
       "      <td>12700000.0</td>\n",
       "      <td>4.0</td>\n",
       "      <td>df662812-7f97-0b43-9d3e-12f64f504fbb</td>\n",
       "      <td>Facebook</td>\n",
       "      <td>b08efc27-da40-505a-6f9d-c9e14247bf36</td>\n",
       "      <td>True</td>\n",
       "    </tr>\n",
       "    <tr>\n",
       "      <th>2</th>\n",
       "      <td>6fae3958-a001-27c0-fb7e-666266aedd78</td>\n",
       "      <td>Series B - Facebook</td>\n",
       "      <td>funding_round</td>\n",
       "      <td>series_b</td>\n",
       "      <td>27500000.0</td>\n",
       "      <td>5.0</td>\n",
       "      <td>df662812-7f97-0b43-9d3e-12f64f504fbb</td>\n",
       "      <td>Facebook</td>\n",
       "      <td>e2006571-6b7a-e477-002a-f7014f48a7e3,8d5c7e48-...</td>\n",
       "      <td>True</td>\n",
       "    </tr>\n",
       "    <tr>\n",
       "      <th>3</th>\n",
       "      <td>bcd5a63d-ed99-6963-0dd2-e36f6582f846</td>\n",
       "      <td>Series B - Photobucket</td>\n",
       "      <td>funding_round</td>\n",
       "      <td>series_b</td>\n",
       "      <td>10500000.0</td>\n",
       "      <td>2.0</td>\n",
       "      <td>f53cb4de-236e-0b1b-dee8-7104a8b018f9</td>\n",
       "      <td>Photobucket</td>\n",
       "      <td>NaN</td>\n",
       "      <td>False</td>\n",
       "    </tr>\n",
       "    <tr>\n",
       "      <th>4</th>\n",
       "      <td>60e6afd9-1215-465a-dd17-0ed600d4e29b</td>\n",
       "      <td>Series A - Geni</td>\n",
       "      <td>funding_round</td>\n",
       "      <td>series_a</td>\n",
       "      <td>NaN</td>\n",
       "      <td>1.0</td>\n",
       "      <td>4111dc8b-c0df-2d24-ed33-30cd137b3098</td>\n",
       "      <td>Geni</td>\n",
       "      <td>fb2f8884-ec07-895a-48d7-d9a9d4d7175c</td>\n",
       "      <td>True</td>\n",
       "    </tr>\n",
       "    <tr>\n",
       "      <th>...</th>\n",
       "      <td>...</td>\n",
       "      <td>...</td>\n",
       "      <td>...</td>\n",
       "      <td>...</td>\n",
       "      <td>...</td>\n",
       "      <td>...</td>\n",
       "      <td>...</td>\n",
       "      <td>...</td>\n",
       "      <td>...</td>\n",
       "      <td>...</td>\n",
       "    </tr>\n",
       "    <tr>\n",
       "      <th>438005</th>\n",
       "      <td>bbf0cd68-ed21-4c39-b941-b746aa24ee90</td>\n",
       "      <td>Seed Round - Nectir</td>\n",
       "      <td>funding_round</td>\n",
       "      <td>seed</td>\n",
       "      <td>2250000.0</td>\n",
       "      <td>1.0</td>\n",
       "      <td>7a545a66-56b1-4d98-ab0c-306a8b68de37</td>\n",
       "      <td>Nectir</td>\n",
       "      <td>aa4c2058-ddae-4f1c-b0f0-6ba6b07a1a19</td>\n",
       "      <td>True</td>\n",
       "    </tr>\n",
       "    <tr>\n",
       "      <th>438022</th>\n",
       "      <td>b4bac7fe-dac0-4e5b-8766-f0d9cae0a4f8</td>\n",
       "      <td>Seed Round - qBotica</td>\n",
       "      <td>funding_round</td>\n",
       "      <td>seed</td>\n",
       "      <td>1000000.0</td>\n",
       "      <td>NaN</td>\n",
       "      <td>76b76eaa-331f-9ce3-3722-fdc82e296cf2</td>\n",
       "      <td>qBotica</td>\n",
       "      <td>NaN</td>\n",
       "      <td>False</td>\n",
       "    </tr>\n",
       "    <tr>\n",
       "      <th>438024</th>\n",
       "      <td>a404c3ae-1e2c-45b8-8bea-ae8db54b321f</td>\n",
       "      <td>Seed Round - PipeKit</td>\n",
       "      <td>funding_round</td>\n",
       "      <td>seed</td>\n",
       "      <td>NaN</td>\n",
       "      <td>1.0</td>\n",
       "      <td>308b85fe-5e63-43ef-9750-21c7f10246a9</td>\n",
       "      <td>PipeKit</td>\n",
       "      <td>NaN</td>\n",
       "      <td>False</td>\n",
       "    </tr>\n",
       "    <tr>\n",
       "      <th>438025</th>\n",
       "      <td>012ce68a-3ba7-4ac3-bd8d-1c5501022382</td>\n",
       "      <td>Series A - Buffalo Market</td>\n",
       "      <td>funding_round</td>\n",
       "      <td>series_a</td>\n",
       "      <td>19749100.0</td>\n",
       "      <td>6.0</td>\n",
       "      <td>9357d833-5bbc-4224-9a42-3d81c36f6476</td>\n",
       "      <td>Buffalo Market</td>\n",
       "      <td>bd699a78-d3ac-4858-9b37-ff62a2112147,893f5705-...</td>\n",
       "      <td>True</td>\n",
       "    </tr>\n",
       "    <tr>\n",
       "      <th>438027</th>\n",
       "      <td>5c1a88df-9be6-4980-aa1b-e3e0e7c881d2</td>\n",
       "      <td>Seed Round - Let's Enhance</td>\n",
       "      <td>funding_round</td>\n",
       "      <td>seed</td>\n",
       "      <td>3000000.0</td>\n",
       "      <td>4.0</td>\n",
       "      <td>79d2edcb-5957-4248-87d5-554127f15cd9</td>\n",
       "      <td>Let's Enhance</td>\n",
       "      <td>e63a6e53-d074-4112-8ea4-44e904a60767</td>\n",
       "      <td>True</td>\n",
       "    </tr>\n",
       "  </tbody>\n",
       "</table>\n",
       "<p>215841 rows × 10 columns</p>\n",
       "</div>"
      ],
      "text/plain": [
       "                                        uuid                        name  \\\n",
       "0       8a945939-18e0-cc9d-27b9-bf33817b2818      Angel Round - Facebook   \n",
       "1       d950d7a5-79ff-fb93-ca87-13386b0e2feb         Series A - Facebook   \n",
       "2       6fae3958-a001-27c0-fb7e-666266aedd78         Series B - Facebook   \n",
       "3       bcd5a63d-ed99-6963-0dd2-e36f6582f846      Series B - Photobucket   \n",
       "4       60e6afd9-1215-465a-dd17-0ed600d4e29b             Series A - Geni   \n",
       "...                                      ...                         ...   \n",
       "438005  bbf0cd68-ed21-4c39-b941-b746aa24ee90         Seed Round - Nectir   \n",
       "438022  b4bac7fe-dac0-4e5b-8766-f0d9cae0a4f8        Seed Round - qBotica   \n",
       "438024  a404c3ae-1e2c-45b8-8bea-ae8db54b321f        Seed Round - PipeKit   \n",
       "438025  012ce68a-3ba7-4ac3-bd8d-1c5501022382   Series A - Buffalo Market   \n",
       "438027  5c1a88df-9be6-4980-aa1b-e3e0e7c881d2  Seed Round - Let's Enhance   \n",
       "\n",
       "                 type investment_type  raised_amount_usd  investor_count  \\\n",
       "0       funding_round           angel           500000.0             4.0   \n",
       "1       funding_round        series_a         12700000.0             4.0   \n",
       "2       funding_round        series_b         27500000.0             5.0   \n",
       "3       funding_round        series_b         10500000.0             2.0   \n",
       "4       funding_round        series_a                NaN             1.0   \n",
       "...               ...             ...                ...             ...   \n",
       "438005  funding_round            seed          2250000.0             1.0   \n",
       "438022  funding_round            seed          1000000.0             NaN   \n",
       "438024  funding_round            seed                NaN             1.0   \n",
       "438025  funding_round        series_a         19749100.0             6.0   \n",
       "438027  funding_round            seed          3000000.0             4.0   \n",
       "\n",
       "                                    org_uuid        org_name  \\\n",
       "0       df662812-7f97-0b43-9d3e-12f64f504fbb        Facebook   \n",
       "1       df662812-7f97-0b43-9d3e-12f64f504fbb        Facebook   \n",
       "2       df662812-7f97-0b43-9d3e-12f64f504fbb        Facebook   \n",
       "3       f53cb4de-236e-0b1b-dee8-7104a8b018f9     Photobucket   \n",
       "4       4111dc8b-c0df-2d24-ed33-30cd137b3098            Geni   \n",
       "...                                      ...             ...   \n",
       "438005  7a545a66-56b1-4d98-ab0c-306a8b68de37          Nectir   \n",
       "438022  76b76eaa-331f-9ce3-3722-fdc82e296cf2         qBotica   \n",
       "438024  308b85fe-5e63-43ef-9750-21c7f10246a9         PipeKit   \n",
       "438025  9357d833-5bbc-4224-9a42-3d81c36f6476  Buffalo Market   \n",
       "438027  79d2edcb-5957-4248-87d5-554127f15cd9   Let's Enhance   \n",
       "\n",
       "                                      lead_investor_uuids  lead_investor_ind  \n",
       "0                    3f47be49-2e32-8118-01a0-31685a4d0fd7               True  \n",
       "1                    b08efc27-da40-505a-6f9d-c9e14247bf36               True  \n",
       "2       e2006571-6b7a-e477-002a-f7014f48a7e3,8d5c7e48-...               True  \n",
       "3                                                     NaN              False  \n",
       "4                    fb2f8884-ec07-895a-48d7-d9a9d4d7175c               True  \n",
       "...                                                   ...                ...  \n",
       "438005               aa4c2058-ddae-4f1c-b0f0-6ba6b07a1a19               True  \n",
       "438022                                                NaN              False  \n",
       "438024                                                NaN              False  \n",
       "438025  bd699a78-d3ac-4858-9b37-ff62a2112147,893f5705-...               True  \n",
       "438027               e63a6e53-d074-4112-8ea4-44e904a60767               True  \n",
       "\n",
       "[215841 rows x 10 columns]"
      ]
     },
     "execution_count": 114,
     "metadata": {},
     "output_type": "execute_result"
    }
   ],
   "source": [
    "# Merge tables to include lead_investor_investment count\n",
    "funding_rounds_df"
   ]
  },
  {
   "cell_type": "markdown",
   "metadata": {},
   "source": [
    "### Degrees_df"
   ]
  },
  {
   "cell_type": "code",
   "execution_count": 115,
   "metadata": {},
   "outputs": [],
   "source": [
    "degrees_df = degrees_df.drop(columns=['permalink','cb_url','rank','created_at',\n",
    "                                      'updated_at','institution_uuid','institution_name','subject'])"
   ]
  },
  {
   "cell_type": "code",
   "execution_count": 116,
   "metadata": {},
   "outputs": [],
   "source": [
    "# Convert our dates into date_data\n",
    "# Convert invalid dates to NaT\n",
    "degrees_df['completed_on'] = pd.to_datetime(degrees_df['completed_on'],errors = 'coerce')\n",
    "\n",
    "# Find whether a person has completed a degree, how many degrees they have attempted, and the earliest completion date\n",
    "degrees_df = degrees_df.groupby(by=['person_uuid']).agg({'uuid':'count', 'is_completed':'sum', 'completed_on':'min'})\n",
    "degrees_df = degrees_df.rename(columns={'uuid':'num_degs_attempted', 'is_completed':'num_degs_finished', 'completed_on':'first_deg_completed_date'})"
   ]
  },
  {
   "cell_type": "code",
   "execution_count": 117,
   "metadata": {},
   "outputs": [],
   "source": [
    "#degrees_df"
   ]
  },
  {
   "cell_type": "markdown",
   "metadata": {},
   "source": [
    "### Category_groups_df"
   ]
  },
  {
   "cell_type": "code",
   "execution_count": 118,
   "metadata": {},
   "outputs": [],
   "source": [
    "category_groups_df = category_groups_df.drop(columns=['permalink','cb_url','rank','created_at','updated_at'])"
   ]
  },
  {
   "cell_type": "code",
   "execution_count": 119,
   "metadata": {},
   "outputs": [
    {
     "data": {
      "text/html": [
       "<div>\n",
       "<style scoped>\n",
       "    .dataframe tbody tr th:only-of-type {\n",
       "        vertical-align: middle;\n",
       "    }\n",
       "\n",
       "    .dataframe tbody tr th {\n",
       "        vertical-align: top;\n",
       "    }\n",
       "\n",
       "    .dataframe thead th {\n",
       "        text-align: right;\n",
       "    }\n",
       "</style>\n",
       "<table border=\"1\" class=\"dataframe\">\n",
       "  <thead>\n",
       "    <tr style=\"text-align: right;\">\n",
       "      <th></th>\n",
       "      <th>uuid</th>\n",
       "      <th>name</th>\n",
       "      <th>type</th>\n",
       "      <th>category_groups_list</th>\n",
       "    </tr>\n",
       "  </thead>\n",
       "  <tbody>\n",
       "    <tr>\n",
       "      <th>0</th>\n",
       "      <td>f9b14a15-5517-8f38-0562-729ebb54dfdb</td>\n",
       "      <td>Homeless Shelter</td>\n",
       "      <td>category</td>\n",
       "      <td>Other</td>\n",
       "    </tr>\n",
       "    <tr>\n",
       "      <th>1</th>\n",
       "      <td>f8320fcf-b657-37d2-1495-daa3ad888ece</td>\n",
       "      <td>Freemium</td>\n",
       "      <td>category</td>\n",
       "      <td>Other</td>\n",
       "    </tr>\n",
       "    <tr>\n",
       "      <th>2</th>\n",
       "      <td>f0193199-a968-b457-eb49-95344e22a5ce</td>\n",
       "      <td>Industrial</td>\n",
       "      <td>category</td>\n",
       "      <td>Manufacturing</td>\n",
       "    </tr>\n",
       "    <tr>\n",
       "      <th>3</th>\n",
       "      <td>ed8217ff-bd11-26fe-d82e-eb98a276dc2e</td>\n",
       "      <td>Innovation Management</td>\n",
       "      <td>category</td>\n",
       "      <td>Professional Services</td>\n",
       "    </tr>\n",
       "    <tr>\n",
       "      <th>4</th>\n",
       "      <td>e9794581-9547-2150-8185-7b747f5c9913</td>\n",
       "      <td>Lighting</td>\n",
       "      <td>category</td>\n",
       "      <td>Hardware</td>\n",
       "    </tr>\n",
       "    <tr>\n",
       "      <th>...</th>\n",
       "      <td>...</td>\n",
       "      <td>...</td>\n",
       "      <td>...</td>\n",
       "      <td>...</td>\n",
       "    </tr>\n",
       "    <tr>\n",
       "      <th>739</th>\n",
       "      <td>68413bd1-e42d-4cf1-815b-62e64a6b922a</td>\n",
       "      <td>Quantum Computing</td>\n",
       "      <td>category</td>\n",
       "      <td>Science and Engineering</td>\n",
       "    </tr>\n",
       "    <tr>\n",
       "      <th>740</th>\n",
       "      <td>3e0e2772-75e9-4f7b-aa6d-a8dc3dc9e7c6</td>\n",
       "      <td>Marine Technology</td>\n",
       "      <td>category</td>\n",
       "      <td>Science and Engineering</td>\n",
       "    </tr>\n",
       "    <tr>\n",
       "      <th>741</th>\n",
       "      <td>ce11fd97-65a0-4f8c-b385-2ca48f444479</td>\n",
       "      <td>Smart Cities</td>\n",
       "      <td>category</td>\n",
       "      <td>Real Estate</td>\n",
       "    </tr>\n",
       "    <tr>\n",
       "      <th>742</th>\n",
       "      <td>b561fa84-cb20-4a82-a6bc-fea613d74cdd</td>\n",
       "      <td>Last Mile Transportation</td>\n",
       "      <td>category</td>\n",
       "      <td>Transportation</td>\n",
       "    </tr>\n",
       "    <tr>\n",
       "      <th>743</th>\n",
       "      <td>3fb898d3-4b96-418e-a58e-eaff8295e182</td>\n",
       "      <td>Legal Tech</td>\n",
       "      <td>category</td>\n",
       "      <td>Professional Services</td>\n",
       "    </tr>\n",
       "  </tbody>\n",
       "</table>\n",
       "<p>744 rows × 4 columns</p>\n",
       "</div>"
      ],
      "text/plain": [
       "                                     uuid                      name      type  \\\n",
       "0    f9b14a15-5517-8f38-0562-729ebb54dfdb          Homeless Shelter  category   \n",
       "1    f8320fcf-b657-37d2-1495-daa3ad888ece                  Freemium  category   \n",
       "2    f0193199-a968-b457-eb49-95344e22a5ce                Industrial  category   \n",
       "3    ed8217ff-bd11-26fe-d82e-eb98a276dc2e     Innovation Management  category   \n",
       "4    e9794581-9547-2150-8185-7b747f5c9913                  Lighting  category   \n",
       "..                                    ...                       ...       ...   \n",
       "739  68413bd1-e42d-4cf1-815b-62e64a6b922a         Quantum Computing  category   \n",
       "740  3e0e2772-75e9-4f7b-aa6d-a8dc3dc9e7c6         Marine Technology  category   \n",
       "741  ce11fd97-65a0-4f8c-b385-2ca48f444479              Smart Cities  category   \n",
       "742  b561fa84-cb20-4a82-a6bc-fea613d74cdd  Last Mile Transportation  category   \n",
       "743  3fb898d3-4b96-418e-a58e-eaff8295e182                Legal Tech  category   \n",
       "\n",
       "        category_groups_list  \n",
       "0                      Other  \n",
       "1                      Other  \n",
       "2              Manufacturing  \n",
       "3      Professional Services  \n",
       "4                   Hardware  \n",
       "..                       ...  \n",
       "739  Science and Engineering  \n",
       "740  Science and Engineering  \n",
       "741              Real Estate  \n",
       "742           Transportation  \n",
       "743    Professional Services  \n",
       "\n",
       "[744 rows x 4 columns]"
      ]
     },
     "execution_count": 119,
     "metadata": {},
     "output_type": "execute_result"
    }
   ],
   "source": [
    "category_groups_df"
   ]
  },
  {
   "cell_type": "markdown",
   "metadata": {},
   "source": [
    "### Merging to obtain final dataset"
   ]
  },
  {
   "cell_type": "code",
   "execution_count": 125,
   "metadata": {},
   "outputs": [
    {
     "data": {
      "text/html": [
       "<div>\n",
       "<style scoped>\n",
       "    .dataframe tbody tr th:only-of-type {\n",
       "        vertical-align: middle;\n",
       "    }\n",
       "\n",
       "    .dataframe tbody tr th {\n",
       "        vertical-align: top;\n",
       "    }\n",
       "\n",
       "    .dataframe thead th {\n",
       "        text-align: right;\n",
       "    }\n",
       "</style>\n",
       "<table border=\"1\" class=\"dataframe\">\n",
       "  <thead>\n",
       "    <tr style=\"text-align: right;\">\n",
       "      <th></th>\n",
       "      <th>uuid</th>\n",
       "      <th>name</th>\n",
       "      <th>type</th>\n",
       "      <th>roles</th>\n",
       "      <th>domain</th>\n",
       "      <th>homepage_url</th>\n",
       "      <th>country_code</th>\n",
       "      <th>state_code</th>\n",
       "      <th>region</th>\n",
       "      <th>city</th>\n",
       "      <th>...</th>\n",
       "      <th>postal_code</th>\n",
       "      <th>status</th>\n",
       "      <th>category_list</th>\n",
       "      <th>category_groups_list</th>\n",
       "      <th>num_funding_rounds</th>\n",
       "      <th>total_funding_usd</th>\n",
       "      <th>founded_on</th>\n",
       "      <th>last_funding_on</th>\n",
       "      <th>closed_on</th>\n",
       "      <th>employee_count</th>\n",
       "    </tr>\n",
       "  </thead>\n",
       "  <tbody>\n",
       "    <tr>\n",
       "      <th>0</th>\n",
       "      <td>e1393508-30ea-8a36-3f96-dd3226033abd</td>\n",
       "      <td>Wetpaint</td>\n",
       "      <td>organization</td>\n",
       "      <td>company</td>\n",
       "      <td>wetpaint.com</td>\n",
       "      <td>http://www.wetpaint.com/</td>\n",
       "      <td>USA</td>\n",
       "      <td>NY</td>\n",
       "      <td>New York</td>\n",
       "      <td>New York</td>\n",
       "      <td>...</td>\n",
       "      <td>10010</td>\n",
       "      <td>acquired</td>\n",
       "      <td>Publishing,Social Media,Social Media Management</td>\n",
       "      <td>Content and Publishing,Internet Services,Media...</td>\n",
       "      <td>3.0</td>\n",
       "      <td>3.975000e+07</td>\n",
       "      <td>2005-06-01</td>\n",
       "      <td>2008-05-19</td>\n",
       "      <td>NaN</td>\n",
       "      <td>51-100</td>\n",
       "    </tr>\n",
       "    <tr>\n",
       "      <th>1</th>\n",
       "      <td>bf4d7b0e-b34d-2fd8-d292-6049c4f7efc7</td>\n",
       "      <td>Zoho</td>\n",
       "      <td>organization</td>\n",
       "      <td>investor,company</td>\n",
       "      <td>zoho.com</td>\n",
       "      <td>https://www.zoho.com/</td>\n",
       "      <td>USA</td>\n",
       "      <td>CA</td>\n",
       "      <td>California</td>\n",
       "      <td>Pleasanton</td>\n",
       "      <td>...</td>\n",
       "      <td>94588</td>\n",
       "      <td>operating</td>\n",
       "      <td>Cloud Computing,Collaboration,CRM,Developer To...</td>\n",
       "      <td>Administrative Services,Information Technology...</td>\n",
       "      <td>NaN</td>\n",
       "      <td>NaN</td>\n",
       "      <td>1996-09-15</td>\n",
       "      <td>NaN</td>\n",
       "      <td>NaN</td>\n",
       "      <td>1001-5000</td>\n",
       "    </tr>\n",
       "    <tr>\n",
       "      <th>2</th>\n",
       "      <td>5f2b40b8-d1b3-d323-d81a-b7a8e89553d0</td>\n",
       "      <td>Digg</td>\n",
       "      <td>organization</td>\n",
       "      <td>company</td>\n",
       "      <td>digg.com</td>\n",
       "      <td>http://www.digg.com</td>\n",
       "      <td>USA</td>\n",
       "      <td>NY</td>\n",
       "      <td>New York</td>\n",
       "      <td>New York</td>\n",
       "      <td>...</td>\n",
       "      <td>NaN</td>\n",
       "      <td>acquired</td>\n",
       "      <td>Internet,Social Media,Social Network</td>\n",
       "      <td>Internet Services,Media and Entertainment</td>\n",
       "      <td>6.0</td>\n",
       "      <td>4.900000e+07</td>\n",
       "      <td>2004-10-11</td>\n",
       "      <td>2016-09-13</td>\n",
       "      <td>NaN</td>\n",
       "      <td>51-100</td>\n",
       "    </tr>\n",
       "    <tr>\n",
       "      <th>3</th>\n",
       "      <td>f4d5ab44-058b-298b-ea81-380e6e9a8eec</td>\n",
       "      <td>Omidyar Network</td>\n",
       "      <td>organization</td>\n",
       "      <td>investor</td>\n",
       "      <td>omidyar.com</td>\n",
       "      <td>http://www.omidyar.com</td>\n",
       "      <td>USA</td>\n",
       "      <td>CA</td>\n",
       "      <td>California</td>\n",
       "      <td>Redwood City</td>\n",
       "      <td>...</td>\n",
       "      <td>94063</td>\n",
       "      <td>operating</td>\n",
       "      <td>Enterprise Software,Financial Services,Venture...</td>\n",
       "      <td>Financial Services,Lending and Investments,Sof...</td>\n",
       "      <td>NaN</td>\n",
       "      <td>NaN</td>\n",
       "      <td>2004-01-01</td>\n",
       "      <td>NaN</td>\n",
       "      <td>NaN</td>\n",
       "      <td>101-250</td>\n",
       "    </tr>\n",
       "    <tr>\n",
       "      <th>4</th>\n",
       "      <td>df662812-7f97-0b43-9d3e-12f64f504fbb</td>\n",
       "      <td>Facebook</td>\n",
       "      <td>organization</td>\n",
       "      <td>investor,company</td>\n",
       "      <td>facebook.com</td>\n",
       "      <td>http://www.facebook.com</td>\n",
       "      <td>USA</td>\n",
       "      <td>CA</td>\n",
       "      <td>California</td>\n",
       "      <td>Menlo Park</td>\n",
       "      <td>...</td>\n",
       "      <td>94025</td>\n",
       "      <td>ipo</td>\n",
       "      <td>Mobile Apps,Photo Sharing,Social Media,Social ...</td>\n",
       "      <td>Apps,Content and Publishing,Internet Services,...</td>\n",
       "      <td>16.0</td>\n",
       "      <td>1.612282e+10</td>\n",
       "      <td>2004-02-04</td>\n",
       "      <td>2014-10-20</td>\n",
       "      <td>NaN</td>\n",
       "      <td>10000+</td>\n",
       "    </tr>\n",
       "    <tr>\n",
       "      <th>...</th>\n",
       "      <td>...</td>\n",
       "      <td>...</td>\n",
       "      <td>...</td>\n",
       "      <td>...</td>\n",
       "      <td>...</td>\n",
       "      <td>...</td>\n",
       "      <td>...</td>\n",
       "      <td>...</td>\n",
       "      <td>...</td>\n",
       "      <td>...</td>\n",
       "      <td>...</td>\n",
       "      <td>...</td>\n",
       "      <td>...</td>\n",
       "      <td>...</td>\n",
       "      <td>...</td>\n",
       "      <td>...</td>\n",
       "      <td>...</td>\n",
       "      <td>...</td>\n",
       "      <td>...</td>\n",
       "      <td>...</td>\n",
       "      <td>...</td>\n",
       "    </tr>\n",
       "    <tr>\n",
       "      <th>1642158</th>\n",
       "      <td>9ed8a203-c5a0-496a-adda-25a0cbb90fb3</td>\n",
       "      <td>McGuire Memorial</td>\n",
       "      <td>organization</td>\n",
       "      <td>company</td>\n",
       "      <td>mcguirememorial.org</td>\n",
       "      <td>http://mcguirememorial.org</td>\n",
       "      <td>USA</td>\n",
       "      <td>PA</td>\n",
       "      <td>Pennsylvania</td>\n",
       "      <td>New Brighton</td>\n",
       "      <td>...</td>\n",
       "      <td>15066</td>\n",
       "      <td>operating</td>\n",
       "      <td>Assisted Living,Education,Health Care,Non Prof...</td>\n",
       "      <td>Education,Health Care,Other,Real Estate</td>\n",
       "      <td>NaN</td>\n",
       "      <td>NaN</td>\n",
       "      <td>1963-01-01</td>\n",
       "      <td>NaN</td>\n",
       "      <td>NaN</td>\n",
       "      <td>251-500</td>\n",
       "    </tr>\n",
       "    <tr>\n",
       "      <th>1642159</th>\n",
       "      <td>a8b940d2-89f3-46f9-80ed-69cf4ceea3ac</td>\n",
       "      <td>Success Chain</td>\n",
       "      <td>organization</td>\n",
       "      <td>company</td>\n",
       "      <td>successchain.net</td>\n",
       "      <td>https://www.successchain.net</td>\n",
       "      <td>GBR</td>\n",
       "      <td>NaN</td>\n",
       "      <td>Bournemouth</td>\n",
       "      <td>Bournemouth</td>\n",
       "      <td>...</td>\n",
       "      <td>NaN</td>\n",
       "      <td>operating</td>\n",
       "      <td>Business Development,Consulting,SaaS</td>\n",
       "      <td>Professional Services,Software</td>\n",
       "      <td>NaN</td>\n",
       "      <td>NaN</td>\n",
       "      <td>2020-01-01</td>\n",
       "      <td>NaN</td>\n",
       "      <td>NaN</td>\n",
       "      <td>1-10</td>\n",
       "    </tr>\n",
       "    <tr>\n",
       "      <th>1642160</th>\n",
       "      <td>ffc73558-8701-4530-ae8b-293eabf9a7b8</td>\n",
       "      <td>Capital Estate</td>\n",
       "      <td>organization</td>\n",
       "      <td>company</td>\n",
       "      <td>capitalestate.mx</td>\n",
       "      <td>http://www.capitalestate.mx</td>\n",
       "      <td>MEX</td>\n",
       "      <td>NaN</td>\n",
       "      <td>Jalisco</td>\n",
       "      <td>Guadalajara</td>\n",
       "      <td>...</td>\n",
       "      <td>NaN</td>\n",
       "      <td>operating</td>\n",
       "      <td>Real Estate</td>\n",
       "      <td>Real Estate</td>\n",
       "      <td>NaN</td>\n",
       "      <td>NaN</td>\n",
       "      <td>2020-05-01</td>\n",
       "      <td>NaN</td>\n",
       "      <td>NaN</td>\n",
       "      <td>1-10</td>\n",
       "    </tr>\n",
       "    <tr>\n",
       "      <th>1642161</th>\n",
       "      <td>440cc557-5891-4b6b-935a-d90569cff9d8</td>\n",
       "      <td>FABAY</td>\n",
       "      <td>organization</td>\n",
       "      <td>company</td>\n",
       "      <td>fabay.com.tr</td>\n",
       "      <td>https://fabay.com.tr</td>\n",
       "      <td>TUR</td>\n",
       "      <td>NaN</td>\n",
       "      <td>Mugla</td>\n",
       "      <td>Mugla</td>\n",
       "      <td>...</td>\n",
       "      <td>NaN</td>\n",
       "      <td>operating</td>\n",
       "      <td>Civil Engineering,Construction,Project Managem...</td>\n",
       "      <td>Administrative Services,Other,Real Estate,Scie...</td>\n",
       "      <td>NaN</td>\n",
       "      <td>NaN</td>\n",
       "      <td>NaN</td>\n",
       "      <td>NaN</td>\n",
       "      <td>NaN</td>\n",
       "      <td>1001-5000</td>\n",
       "    </tr>\n",
       "    <tr>\n",
       "      <th>1642162</th>\n",
       "      <td>294c5e83-3580-4f6e-9cd3-85a0a97f675c</td>\n",
       "      <td>LiveBeyond</td>\n",
       "      <td>organization</td>\n",
       "      <td>company</td>\n",
       "      <td>livebeyond.org</td>\n",
       "      <td>https://livebeyond.org/</td>\n",
       "      <td>USA</td>\n",
       "      <td>TN</td>\n",
       "      <td>Tennessee</td>\n",
       "      <td>Nashville</td>\n",
       "      <td>...</td>\n",
       "      <td>37212</td>\n",
       "      <td>operating</td>\n",
       "      <td>Charity,Child Care,Children,Education,Non Profit</td>\n",
       "      <td>Community and Lifestyle,Education,Health Care,...</td>\n",
       "      <td>NaN</td>\n",
       "      <td>NaN</td>\n",
       "      <td>2012-01-01</td>\n",
       "      <td>NaN</td>\n",
       "      <td>NaN</td>\n",
       "      <td>11-50</td>\n",
       "    </tr>\n",
       "  </tbody>\n",
       "</table>\n",
       "<p>1642163 rows × 21 columns</p>\n",
       "</div>"
      ],
      "text/plain": [
       "                                         uuid              name          type  \\\n",
       "0        e1393508-30ea-8a36-3f96-dd3226033abd          Wetpaint  organization   \n",
       "1        bf4d7b0e-b34d-2fd8-d292-6049c4f7efc7              Zoho  organization   \n",
       "2        5f2b40b8-d1b3-d323-d81a-b7a8e89553d0              Digg  organization   \n",
       "3        f4d5ab44-058b-298b-ea81-380e6e9a8eec   Omidyar Network  organization   \n",
       "4        df662812-7f97-0b43-9d3e-12f64f504fbb          Facebook  organization   \n",
       "...                                       ...               ...           ...   \n",
       "1642158  9ed8a203-c5a0-496a-adda-25a0cbb90fb3  McGuire Memorial  organization   \n",
       "1642159  a8b940d2-89f3-46f9-80ed-69cf4ceea3ac     Success Chain  organization   \n",
       "1642160  ffc73558-8701-4530-ae8b-293eabf9a7b8    Capital Estate  organization   \n",
       "1642161  440cc557-5891-4b6b-935a-d90569cff9d8             FABAY  organization   \n",
       "1642162  294c5e83-3580-4f6e-9cd3-85a0a97f675c        LiveBeyond  organization   \n",
       "\n",
       "                    roles               domain                  homepage_url  \\\n",
       "0                 company         wetpaint.com      http://www.wetpaint.com/   \n",
       "1        investor,company             zoho.com         https://www.zoho.com/   \n",
       "2                 company             digg.com           http://www.digg.com   \n",
       "3                investor          omidyar.com        http://www.omidyar.com   \n",
       "4        investor,company         facebook.com       http://www.facebook.com   \n",
       "...                   ...                  ...                           ...   \n",
       "1642158           company  mcguirememorial.org    http://mcguirememorial.org   \n",
       "1642159           company     successchain.net  https://www.successchain.net   \n",
       "1642160           company     capitalestate.mx   http://www.capitalestate.mx   \n",
       "1642161           company         fabay.com.tr          https://fabay.com.tr   \n",
       "1642162           company       livebeyond.org       https://livebeyond.org/   \n",
       "\n",
       "        country_code state_code        region          city  ... postal_code  \\\n",
       "0                USA         NY      New York      New York  ...       10010   \n",
       "1                USA         CA    California    Pleasanton  ...       94588   \n",
       "2                USA         NY      New York      New York  ...         NaN   \n",
       "3                USA         CA    California  Redwood City  ...       94063   \n",
       "4                USA         CA    California    Menlo Park  ...       94025   \n",
       "...              ...        ...           ...           ...  ...         ...   \n",
       "1642158          USA         PA  Pennsylvania  New Brighton  ...       15066   \n",
       "1642159          GBR        NaN   Bournemouth   Bournemouth  ...         NaN   \n",
       "1642160          MEX        NaN       Jalisco   Guadalajara  ...         NaN   \n",
       "1642161          TUR        NaN         Mugla         Mugla  ...         NaN   \n",
       "1642162          USA         TN     Tennessee     Nashville  ...       37212   \n",
       "\n",
       "            status                                      category_list  \\\n",
       "0         acquired    Publishing,Social Media,Social Media Management   \n",
       "1        operating  Cloud Computing,Collaboration,CRM,Developer To...   \n",
       "2         acquired               Internet,Social Media,Social Network   \n",
       "3        operating  Enterprise Software,Financial Services,Venture...   \n",
       "4              ipo  Mobile Apps,Photo Sharing,Social Media,Social ...   \n",
       "...            ...                                                ...   \n",
       "1642158  operating  Assisted Living,Education,Health Care,Non Prof...   \n",
       "1642159  operating               Business Development,Consulting,SaaS   \n",
       "1642160  operating                                        Real Estate   \n",
       "1642161  operating  Civil Engineering,Construction,Project Managem...   \n",
       "1642162  operating   Charity,Child Care,Children,Education,Non Profit   \n",
       "\n",
       "                                      category_groups_list num_funding_rounds  \\\n",
       "0        Content and Publishing,Internet Services,Media...                3.0   \n",
       "1        Administrative Services,Information Technology...                NaN   \n",
       "2                Internet Services,Media and Entertainment                6.0   \n",
       "3        Financial Services,Lending and Investments,Sof...                NaN   \n",
       "4        Apps,Content and Publishing,Internet Services,...               16.0   \n",
       "...                                                    ...                ...   \n",
       "1642158            Education,Health Care,Other,Real Estate                NaN   \n",
       "1642159                     Professional Services,Software                NaN   \n",
       "1642160                                        Real Estate                NaN   \n",
       "1642161  Administrative Services,Other,Real Estate,Scie...                NaN   \n",
       "1642162  Community and Lifestyle,Education,Health Care,...                NaN   \n",
       "\n",
       "         total_funding_usd  founded_on last_funding_on closed_on  \\\n",
       "0             3.975000e+07  2005-06-01      2008-05-19       NaN   \n",
       "1                      NaN  1996-09-15             NaN       NaN   \n",
       "2             4.900000e+07  2004-10-11      2016-09-13       NaN   \n",
       "3                      NaN  2004-01-01             NaN       NaN   \n",
       "4             1.612282e+10  2004-02-04      2014-10-20       NaN   \n",
       "...                    ...         ...             ...       ...   \n",
       "1642158                NaN  1963-01-01             NaN       NaN   \n",
       "1642159                NaN  2020-01-01             NaN       NaN   \n",
       "1642160                NaN  2020-05-01             NaN       NaN   \n",
       "1642161                NaN         NaN             NaN       NaN   \n",
       "1642162                NaN  2012-01-01             NaN       NaN   \n",
       "\n",
       "        employee_count  \n",
       "0               51-100  \n",
       "1            1001-5000  \n",
       "2               51-100  \n",
       "3              101-250  \n",
       "4               10000+  \n",
       "...                ...  \n",
       "1642158        251-500  \n",
       "1642159           1-10  \n",
       "1642160           1-10  \n",
       "1642161      1001-5000  \n",
       "1642162          11-50  \n",
       "\n",
       "[1642163 rows x 21 columns]"
      ]
     },
     "execution_count": 125,
     "metadata": {},
     "output_type": "execute_result"
    }
   ],
   "source": [
    "organizations_df"
   ]
  },
  {
   "cell_type": "code",
   "execution_count": null,
   "metadata": {},
   "outputs": [],
   "source": [
    "\"\"\"\n",
    "# Create a bar plot for companies per state\n",
    "\n",
    "to_plot_states = organizations_df.groupby(by='state_code').count().reset_index()[['state_code','uuid']]\n",
    "sns.set_theme(style=\"whitegrid\")\n",
    "fig, ax = plt.subplots(1,1, figsize=(10,5))\n",
    "\n",
    "ax = sns.barplot(x=\"state_code\", y=\"uuid\", data=to_plot_states)\n",
    "ax.set_xticklabels(to_plot_states[\"state_code\"],rotation=45,fontsize=10)\n",
    "\n",
    "plt.show()\n",
    "\"\"\""
   ]
  }
 ],
 "metadata": {
  "kernelspec": {
   "display_name": "Python 3",
   "language": "python",
   "name": "python3"
  },
  "language_info": {
   "codemirror_mode": {
    "name": "ipython",
    "version": 3
   },
   "file_extension": ".py",
   "mimetype": "text/x-python",
   "name": "python",
   "nbconvert_exporter": "python",
   "pygments_lexer": "ipython3",
   "version": "3.9.7"
  }
 },
 "nbformat": 4,
 "nbformat_minor": 4
}
