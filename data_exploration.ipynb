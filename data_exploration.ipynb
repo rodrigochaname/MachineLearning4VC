{
 "cells": [
  {
   "cell_type": "markdown",
   "metadata": {},
   "source": [
    "# Data exploration"
   ]
  },
  {
   "cell_type": "code",
   "execution_count": 281,
   "metadata": {},
   "outputs": [],
   "source": [
    "import pandas as pd\n",
    "import numpy as np\n",
    "import matplotlib.pyplot as plt\n",
    "import seaborn as sns\n",
    "import urllib3"
   ]
  },
  {
   "cell_type": "markdown",
   "metadata": {},
   "source": [
    "Data extracted on Thursday 28th, October 2021 at 1:03 PM from Crunchbase Research."
   ]
  },
  {
   "cell_type": "code",
   "execution_count": 282,
   "metadata": {},
   "outputs": [],
   "source": [
    "extracted_year = 2021"
   ]
  },
  {
   "cell_type": "markdown",
   "metadata": {},
   "source": [
    "## Load tables"
   ]
  },
  {
   "cell_type": "code",
   "execution_count": 283,
   "metadata": {},
   "outputs": [],
   "source": [
    "# Tables we will use\n",
    "people_df = pd.read_csv('data/people.csv')\n",
    "organizations_df = pd.read_csv('data/organizations.csv')\n",
    "jobs_df = pd.read_csv('data/jobs.csv')\n",
    "investors_df = pd.read_csv('data/investors.csv')\n",
    "funding_rounds_df = pd.read_csv('data/funding_rounds.csv')\n",
    "degrees_df = pd.read_csv('data/degrees.csv')\n",
    "category_groups_df = pd.read_csv('data/category_groups.csv')"
   ]
  },
  {
   "cell_type": "code",
   "execution_count": 284,
   "metadata": {},
   "outputs": [],
   "source": [
    "# Useless tables\n",
    "organization_descriptions_df = pd.read_csv('data/organization_descriptions.csv')\n",
    "people_descriptions_df = pd.read_csv('data/people_descriptions.csv')\n",
    "check_sum_df = pd.read_csv('data/checksum.csv')\n",
    "event_appearances_df = pd.read_csv('data/event_appearances.csv')\n",
    "ipos_df = pd.read_csv('data/ipos.csv')\n",
    "acquisitions_df = pd.read_csv('data/acquisitions.csv')\n",
    "investments_df = pd.read_csv('data/investments.csv')\n",
    "funds_df = pd.read_csv('data/funds.csv')\n",
    "org_parents = pd.read_csv('data/org_parents.csv')\n",
    "events = pd.read_csv('data/events.csv')\n",
    "investment_partners_df = pd.read_csv('data/investment_partners.csv')"
   ]
  },
  {
   "cell_type": "markdown",
   "metadata": {},
   "source": [
    "## Preliminary table selection"
   ]
  },
  {
   "cell_type": "markdown",
   "metadata": {},
   "source": [
    "The goal of this step is to figure which tables contain meaningful data for our analysis. The tables that do not make the cut will not be used further."
   ]
  },
  {
   "cell_type": "markdown",
   "metadata": {},
   "source": [
    "### People-related tables"
   ]
  },
  {
   "cell_type": "code",
   "execution_count": 285,
   "metadata": {},
   "outputs": [],
   "source": [
    "# print(people_df.columns.values)\n",
    "# people_df.head()"
   ]
  },
  {
   "cell_type": "markdown",
   "metadata": {},
   "source": [
    "The table <code>people_df</code> contains potentially good information like rank, region, city, etc. The information in this table is contained by other tables like <code>jobs_df</code> and <code>degrees_df</code>."
   ]
  },
  {
   "cell_type": "code",
   "execution_count": 286,
   "metadata": {},
   "outputs": [],
   "source": [
    "#print(people_descriptions_df.columns.values)\n",
    "#people_descriptions_df.head()"
   ]
  },
  {
   "cell_type": "markdown",
   "metadata": {},
   "source": [
    "The table <code>people_descriptions_df</code> mostly contains text description of what each company does. While this might be useful for a model that leverages NLP, that is out of the scope of our project"
   ]
  },
  {
   "cell_type": "code",
   "execution_count": 287,
   "metadata": {},
   "outputs": [],
   "source": [
    "# print(ipos_df.columns.values)\n",
    "#ipos_df.head()"
   ]
  },
  {
   "cell_type": "markdown",
   "metadata": {},
   "source": [
    "The table <code>jobs_df</code> contains useful information regarding the people that work on the company. We can leverage this table to find information regarding the founders."
   ]
  },
  {
   "cell_type": "code",
   "execution_count": 288,
   "metadata": {},
   "outputs": [],
   "source": [
    "# print(degrees_df.columns.values)\n",
    "# degrees_df.head()"
   ]
  },
  {
   "cell_type": "markdown",
   "metadata": {},
   "source": [
    "The table <code>degrees_df</code> contains information regarding the degrees of people. We can use this information to see where founders and early employees went to school."
   ]
  },
  {
   "cell_type": "markdown",
   "metadata": {},
   "source": [
    "### Organization-related tables"
   ]
  },
  {
   "cell_type": "code",
   "execution_count": 289,
   "metadata": {},
   "outputs": [],
   "source": [
    "# print(organizations_df.columns.values)\n",
    "# organizations_df.head()"
   ]
  },
  {
   "cell_type": "markdown",
   "metadata": {},
   "source": [
    "The table <code>organizations_df</code> contains potentially good information like rank, status, category_list, total_funding etc. Furthermore, we can join this table with some other ones like <code>people_df</code> or <code>investors_df</code>. We will keep using this so far."
   ]
  },
  {
   "cell_type": "code",
   "execution_count": 290,
   "metadata": {},
   "outputs": [],
   "source": [
    "# print(organization_descriptions_df.columns.values)\n",
    "# organization_descriptions_df.head()"
   ]
  },
  {
   "cell_type": "markdown",
   "metadata": {},
   "source": [
    "The table <code>organization_descriptions_df</code> mostly contains text description of what each company does. While this might be useful for a model that leverages NLP, that is out of the scope of our project."
   ]
  },
  {
   "cell_type": "code",
   "execution_count": 291,
   "metadata": {},
   "outputs": [],
   "source": [
    "# print(org_parents_df.columns.values)\n",
    "# org_parents_df.head()"
   ]
  },
  {
   "cell_type": "markdown",
   "metadata": {},
   "source": [
    "The table <code>org_parents_df</code> mostly contains information about parent and child companies. This information is not relevant for our analysis."
   ]
  },
  {
   "cell_type": "code",
   "execution_count": 292,
   "metadata": {},
   "outputs": [],
   "source": [
    "# print(jobs_df.columns.values)\n",
    "# jobs_df.head()"
   ]
  },
  {
   "cell_type": "markdown",
   "metadata": {},
   "source": [
    "The table <code>ipos_df</code> is an extremely important one as it contains useful information about companies that exited through an IPO."
   ]
  },
  {
   "cell_type": "code",
   "execution_count": 293,
   "metadata": {},
   "outputs": [],
   "source": [
    "# print(acquisitions_df.columns.values)\n",
    "# acquisitions_df.head()"
   ]
  },
  {
   "cell_type": "markdown",
   "metadata": {},
   "source": [
    "We do not need the table <code>acquisitions_df</code> as <code>organizations_df</code> already tells us whether a company has been acquired."
   ]
  },
  {
   "cell_type": "markdown",
   "metadata": {},
   "source": [
    "### Investment/funding-related tables"
   ]
  },
  {
   "cell_type": "code",
   "execution_count": 294,
   "metadata": {},
   "outputs": [],
   "source": [
    "# print(investors_df.columns.values)\n",
    "# investors_df.head()"
   ]
  },
  {
   "cell_type": "markdown",
   "metadata": {},
   "source": [
    "The table <code>investors_df</code> contains information regarding investors including domain, total money invested, investment count, etc. We will use it in our analysis."
   ]
  },
  {
   "cell_type": "code",
   "execution_count": 295,
   "metadata": {},
   "outputs": [],
   "source": [
    "# print(investments_df.columns.values)\n",
    "# investments_df.head()"
   ]
  },
  {
   "cell_type": "markdown",
   "metadata": {},
   "source": [
    "The table <code>investments_df</code> contains information regarding particular investments including funding round, investor name, etc. While this information might be useful, it is already included in other tables like <code>funding_rounds_df</code> and <code>investors_df</code>"
   ]
  },
  {
   "cell_type": "code",
   "execution_count": 296,
   "metadata": {},
   "outputs": [],
   "source": [
    "# print(funding_rounds_df.columns.values)\n",
    "# funding_rounds_df.head()"
   ]
  },
  {
   "cell_type": "markdown",
   "metadata": {},
   "source": [
    "The table <code>funding_rounds_df</code> contains information regarding particular founding rounds including investor name, investor count, year, raised amount, etc. This table might come in handy later."
   ]
  },
  {
   "cell_type": "code",
   "execution_count": 297,
   "metadata": {},
   "outputs": [],
   "source": [
    "# print(funds_df.columns.values)\n",
    "# funds_df.head()"
   ]
  },
  {
   "cell_type": "markdown",
   "metadata": {},
   "source": [
    "The table <code>funds_df</code> contains information regarding investment funds including domain, total money raised, investment count, etc. This information is not relevant for our analysis as it does not shed any light on investment decisions."
   ]
  },
  {
   "cell_type": "code",
   "execution_count": 298,
   "metadata": {},
   "outputs": [],
   "source": [
    "# print(investment_partners_df.columns.values)\n",
    "# investment_partners_df.head()"
   ]
  },
  {
   "cell_type": "markdown",
   "metadata": {},
   "source": [
    "The table <code>investment_partners</code> contains information regarding the partners that led each investment. While this information might be really interesting, we are not looking for this level of granularity in our analysis. Because of that, we will not use this table moving forward."
   ]
  },
  {
   "cell_type": "markdown",
   "metadata": {},
   "source": [
    "### Events-related tables"
   ]
  },
  {
   "cell_type": "markdown",
   "metadata": {},
   "source": [
    "The following tables include information about different entrepreneurship/tech events awnd which companies attended. We beleive"
   ]
  },
  {
   "cell_type": "code",
   "execution_count": 299,
   "metadata": {},
   "outputs": [],
   "source": [
    "# print(event_appearances_df.columns.values)\n",
    "# event_appearances_df.head()"
   ]
  },
  {
   "cell_type": "code",
   "execution_count": 300,
   "metadata": {},
   "outputs": [],
   "source": [
    "# print(events_df.columns.values)\n",
    "# events.head()"
   ]
  },
  {
   "cell_type": "markdown",
   "metadata": {},
   "source": [
    "## Preliminary data cleaning"
   ]
  },
  {
   "cell_type": "markdown",
   "metadata": {},
   "source": [
    "### Some helper functions"
   ]
  },
  {
   "cell_type": "code",
   "execution_count": 301,
   "metadata": {},
   "outputs": [],
   "source": [
    "# Define a function that checks if an entry is positions\n",
    "def check_position(entry, positions,s=' '):\n",
    "    ans = [word.lower() in positions for word in str(entry).split(s)]\n",
    "    return min(1, sum(ans))\n",
    "\n",
    "# Define a function that checks if a company was founded within a range\n",
    "def founded_on(entry, years):\n",
    "    year = int(entry[0:4])\n",
    "    return years[0] <= year and year <= years[1]"
   ]
  },
  {
   "cell_type": "markdown",
   "metadata": {},
   "source": [
    "### Organizations_df"
   ]
  },
  {
   "cell_type": "code",
   "execution_count": 302,
   "metadata": {},
   "outputs": [],
   "source": [
    "organizations_df = organizations_df.drop(columns=['permalink','cb_url','created_at','updated_at',\n",
    "                                                  'legal_name','phone','short_description','email',\n",
    "                                                  'phone','facebook_url','linkedin_url','twitter_url',\n",
    "                                                  'logo_url','alias1','alias2','alias3','primary_role',\n",
    "                                                  'num_exits','rank','total_funding','total_funding_currency_code']) "
   ]
  },
  {
   "cell_type": "code",
   "execution_count": 303,
   "metadata": {},
   "outputs": [
    {
     "name": "stderr",
     "output_type": "stream",
     "text": [
      "<ipython-input-303-47fce468cc1b>:11: UserWarning: Boolean Series key will be reindexed to match DataFrame index.\n",
      "  organizations_df = organizations_df[cond1 & cond2]\n"
     ]
    }
   ],
   "source": [
    "# Get organizations in the USA\n",
    "cond1 = organizations_df['country_code'] == 'USA'\n",
    "\n",
    "# Organizations_dfies founded between 1995 and 2000 in the USA\n",
    "\n",
    "# We drop all those with nan values\n",
    "organizations_df = organizations_df.dropna(subset=['founded_on'])\n",
    "founded_95_15 = lambda x: founded_on(x,[1995,2015])\n",
    "cond2 = organizations_df['founded_on'].map(founded_95_15)\n",
    "\n",
    "organizations_df = organizations_df[cond1 & cond2]\n",
    "\n",
    "# Only keep companies, filter out all investment funds\n",
    "check_company = lambda x: check_position(x,['company'],',')\n",
    "\n",
    "cond = organizations_df['roles'].map(check_company).astype(bool)\n",
    "organizations_df = organizations_df[cond]"
   ]
  },
  {
   "cell_type": "markdown",
   "metadata": {},
   "source": [
    "### Jobs_df"
   ]
  },
  {
   "cell_type": "code",
   "execution_count": 304,
   "metadata": {},
   "outputs": [],
   "source": [
    "jobs_df = jobs_df.drop(columns=['permalink','cb_url','rank','created_at','updated_at'])\n",
    "jobs_df['started_on']= pd.to_datetime(jobs_df['started_on'],errors = 'coerce')"
   ]
  },
  {
   "cell_type": "code",
   "execution_count": 305,
   "metadata": {},
   "outputs": [],
   "source": [
    "# We drop titles with NaN\n",
    "jobs_df = jobs_df[jobs_df['title'].notna()]\n",
    "\n",
    "# Define functions to check if_founder or if_ceo\n",
    "check_founder = lambda x: check_position(x, ['founder','co-founder'])\n",
    "check_ceo = lambda x: check_position(x, ['ceo'])\n",
    "\n",
    "# Create new columns for is_founder and is_ceo\n",
    "jobs_df['is_founder'] = jobs_df['title'].map(check_founder).astype(bool)\n",
    "jobs_df['is_current_ceo'] = jobs_df['title'].map(check_ceo) & jobs_df['is_current']\n",
    "\n",
    "# Drop all but founders and current CEO\n",
    "cond = jobs_df['is_founder']  | jobs_df['is_current_ceo']\n",
    "jobs_df = jobs_df[cond.astype(bool)]\n",
    "\n",
    "# We want to calculate how many are previously founders\n",
    "founders_df = jobs_df[jobs_df['is_founder'] == 1]\n",
    "serial_founders_df = founders_df.groupby(by=['person_uuid'])\\\n",
    "                                .agg({\"org_uuid\": pd.Series.nunique, 'started_on':'min'})\\\n",
    "                                .reset_index()\\\n",
    "                                .rename(columns={'org_uuid':'number_founded', 'started_on':'first_venture_on'})\n",
    "\n",
    "# Merge tables\n",
    "people_df = jobs_df.merge(serial_founders_df,how='left',on='person_uuid')\n",
    "\n",
    "# We determine whether a founder was a veteran founder at the time each venture was founded\n",
    "cond1 = jobs2_df['is_founder'] == True\n",
    "cond2 = jobs2_df['number_founded'] > 1\n",
    "cond3 = jobs2_df['first_venture_on'] < jobs2_df['started_on']\n",
    "\n",
    "people_df['veteran_founder'] = cond1 & cond2 & cond3\n",
    "\n",
    "# Get rid of unnecessary columns\n",
    "people_df = people_df.drop(columns=['uuid','name','type','person_name','org_name','ended_on','title','job_type'])"
   ]
  },
  {
   "cell_type": "code",
   "execution_count": 306,
   "metadata": {},
   "outputs": [
    {
     "data": {
      "text/html": [
       "<div>\n",
       "<style scoped>\n",
       "    .dataframe tbody tr th:only-of-type {\n",
       "        vertical-align: middle;\n",
       "    }\n",
       "\n",
       "    .dataframe tbody tr th {\n",
       "        vertical-align: top;\n",
       "    }\n",
       "\n",
       "    .dataframe thead th {\n",
       "        text-align: right;\n",
       "    }\n",
       "</style>\n",
       "<table border=\"1\" class=\"dataframe\">\n",
       "  <thead>\n",
       "    <tr style=\"text-align: right;\">\n",
       "      <th></th>\n",
       "      <th>person_uuid</th>\n",
       "      <th>org_uuid</th>\n",
       "      <th>started_on</th>\n",
       "      <th>is_current</th>\n",
       "      <th>is_founder</th>\n",
       "      <th>is_current_ceo</th>\n",
       "      <th>number_founded</th>\n",
       "      <th>first_venture_on</th>\n",
       "      <th>veteran_founder</th>\n",
       "    </tr>\n",
       "  </thead>\n",
       "  <tbody>\n",
       "    <tr>\n",
       "      <th>0</th>\n",
       "      <td>ed13cd36-fe2b-3707-197b-0c2d56e37a71</td>\n",
       "      <td>e1393508-30ea-8a36-3f96-dd3226033abd</td>\n",
       "      <td>2005-10-01</td>\n",
       "      <td>False</td>\n",
       "      <td>True</td>\n",
       "      <td>False</td>\n",
       "      <td>3.0</td>\n",
       "      <td>1999-01-01</td>\n",
       "      <td>True</td>\n",
       "    </tr>\n",
       "    <tr>\n",
       "      <th>1</th>\n",
       "      <td>a01b8d46-d311-3333-7c34-aa3ae9c03f22</td>\n",
       "      <td>df662812-7f97-0b43-9d3e-12f64f504fbb</td>\n",
       "      <td>2004-01-01</td>\n",
       "      <td>True</td>\n",
       "      <td>True</td>\n",
       "      <td>True</td>\n",
       "      <td>7.0</td>\n",
       "      <td>2004-01-01</td>\n",
       "      <td>False</td>\n",
       "    </tr>\n",
       "    <tr>\n",
       "      <th>2</th>\n",
       "      <td>084aaa07-0795-1fe8-9c46-98bbeb02cd64</td>\n",
       "      <td>df662812-7f97-0b43-9d3e-12f64f504fbb</td>\n",
       "      <td>2004-02-01</td>\n",
       "      <td>False</td>\n",
       "      <td>True</td>\n",
       "      <td>False</td>\n",
       "      <td>4.0</td>\n",
       "      <td>2004-02-01</td>\n",
       "      <td>False</td>\n",
       "    </tr>\n",
       "    <tr>\n",
       "      <th>3</th>\n",
       "      <td>5ac8203a-540a-ab6c-46ee-84463834fe72</td>\n",
       "      <td>df662812-7f97-0b43-9d3e-12f64f504fbb</td>\n",
       "      <td>2004-02-01</td>\n",
       "      <td>False</td>\n",
       "      <td>True</td>\n",
       "      <td>False</td>\n",
       "      <td>2.0</td>\n",
       "      <td>2004-02-01</td>\n",
       "      <td>False</td>\n",
       "    </tr>\n",
       "    <tr>\n",
       "      <th>4</th>\n",
       "      <td>93f8920e-789b-3f45-0620-556e5c43987e</td>\n",
       "      <td>f53cb4de-236e-0b1b-dee8-7104a8b018f9</td>\n",
       "      <td>2003-07-01</td>\n",
       "      <td>True</td>\n",
       "      <td>True</td>\n",
       "      <td>True</td>\n",
       "      <td>2.0</td>\n",
       "      <td>2003-07-01</td>\n",
       "      <td>False</td>\n",
       "    </tr>\n",
       "    <tr>\n",
       "      <th>...</th>\n",
       "      <td>...</td>\n",
       "      <td>...</td>\n",
       "      <td>...</td>\n",
       "      <td>...</td>\n",
       "      <td>...</td>\n",
       "      <td>...</td>\n",
       "      <td>...</td>\n",
       "      <td>...</td>\n",
       "      <td>...</td>\n",
       "    </tr>\n",
       "    <tr>\n",
       "      <th>480331</th>\n",
       "      <td>0f08f4de-0a5b-4cc3-95fc-c9838027e8b4</td>\n",
       "      <td>669be14f-ca0d-4448-94db-b5c89df5279a</td>\n",
       "      <td>2018-04-10</td>\n",
       "      <td>False</td>\n",
       "      <td>True</td>\n",
       "      <td>False</td>\n",
       "      <td>1.0</td>\n",
       "      <td>2018-04-10</td>\n",
       "      <td>False</td>\n",
       "    </tr>\n",
       "    <tr>\n",
       "      <th>480332</th>\n",
       "      <td>e42d508b-9adc-a4da-a080-db3f82d93170</td>\n",
       "      <td>9357d833-5bbc-4224-9a42-3d81c36f6476</td>\n",
       "      <td>2019-05-28</td>\n",
       "      <td>True</td>\n",
       "      <td>False</td>\n",
       "      <td>True</td>\n",
       "      <td>2.0</td>\n",
       "      <td>2016-07-01</td>\n",
       "      <td>False</td>\n",
       "    </tr>\n",
       "    <tr>\n",
       "      <th>480333</th>\n",
       "      <td>f90264dd-e9db-d759-d12c-2c2309c04a1a</td>\n",
       "      <td>a86f9d4f-3ab8-4b9a-807e-aea7de4a121d</td>\n",
       "      <td>2016-09-01</td>\n",
       "      <td>True</td>\n",
       "      <td>True</td>\n",
       "      <td>False</td>\n",
       "      <td>2.0</td>\n",
       "      <td>2011-09-01</td>\n",
       "      <td>True</td>\n",
       "    </tr>\n",
       "    <tr>\n",
       "      <th>480334</th>\n",
       "      <td>86817e2d-068e-4317-a68e-44f926ddbea6</td>\n",
       "      <td>a8b940d2-89f3-46f9-80ed-69cf4ceea3ac</td>\n",
       "      <td>2020-11-01</td>\n",
       "      <td>True</td>\n",
       "      <td>True</td>\n",
       "      <td>False</td>\n",
       "      <td>2.0</td>\n",
       "      <td>2020-11-01</td>\n",
       "      <td>False</td>\n",
       "    </tr>\n",
       "    <tr>\n",
       "      <th>480335</th>\n",
       "      <td>cddd3057-43e4-8acf-0ff3-d2d10f93adc3</td>\n",
       "      <td>0ec69240-33d2-4e24-8133-130637a42ef1</td>\n",
       "      <td>2018-09-01</td>\n",
       "      <td>True</td>\n",
       "      <td>False</td>\n",
       "      <td>True</td>\n",
       "      <td>NaN</td>\n",
       "      <td>NaT</td>\n",
       "      <td>False</td>\n",
       "    </tr>\n",
       "  </tbody>\n",
       "</table>\n",
       "<p>480336 rows × 9 columns</p>\n",
       "</div>"
      ],
      "text/plain": [
       "                                 person_uuid  \\\n",
       "0       ed13cd36-fe2b-3707-197b-0c2d56e37a71   \n",
       "1       a01b8d46-d311-3333-7c34-aa3ae9c03f22   \n",
       "2       084aaa07-0795-1fe8-9c46-98bbeb02cd64   \n",
       "3       5ac8203a-540a-ab6c-46ee-84463834fe72   \n",
       "4       93f8920e-789b-3f45-0620-556e5c43987e   \n",
       "...                                      ...   \n",
       "480331  0f08f4de-0a5b-4cc3-95fc-c9838027e8b4   \n",
       "480332  e42d508b-9adc-a4da-a080-db3f82d93170   \n",
       "480333  f90264dd-e9db-d759-d12c-2c2309c04a1a   \n",
       "480334  86817e2d-068e-4317-a68e-44f926ddbea6   \n",
       "480335  cddd3057-43e4-8acf-0ff3-d2d10f93adc3   \n",
       "\n",
       "                                    org_uuid started_on  is_current  \\\n",
       "0       e1393508-30ea-8a36-3f96-dd3226033abd 2005-10-01       False   \n",
       "1       df662812-7f97-0b43-9d3e-12f64f504fbb 2004-01-01        True   \n",
       "2       df662812-7f97-0b43-9d3e-12f64f504fbb 2004-02-01       False   \n",
       "3       df662812-7f97-0b43-9d3e-12f64f504fbb 2004-02-01       False   \n",
       "4       f53cb4de-236e-0b1b-dee8-7104a8b018f9 2003-07-01        True   \n",
       "...                                      ...        ...         ...   \n",
       "480331  669be14f-ca0d-4448-94db-b5c89df5279a 2018-04-10       False   \n",
       "480332  9357d833-5bbc-4224-9a42-3d81c36f6476 2019-05-28        True   \n",
       "480333  a86f9d4f-3ab8-4b9a-807e-aea7de4a121d 2016-09-01        True   \n",
       "480334  a8b940d2-89f3-46f9-80ed-69cf4ceea3ac 2020-11-01        True   \n",
       "480335  0ec69240-33d2-4e24-8133-130637a42ef1 2018-09-01        True   \n",
       "\n",
       "        is_founder  is_current_ceo  number_founded first_venture_on  \\\n",
       "0             True           False             3.0       1999-01-01   \n",
       "1             True            True             7.0       2004-01-01   \n",
       "2             True           False             4.0       2004-02-01   \n",
       "3             True           False             2.0       2004-02-01   \n",
       "4             True            True             2.0       2003-07-01   \n",
       "...            ...             ...             ...              ...   \n",
       "480331        True           False             1.0       2018-04-10   \n",
       "480332       False            True             2.0       2016-07-01   \n",
       "480333        True           False             2.0       2011-09-01   \n",
       "480334        True           False             2.0       2020-11-01   \n",
       "480335       False            True             NaN              NaT   \n",
       "\n",
       "        veteran_founder  \n",
       "0                  True  \n",
       "1                 False  \n",
       "2                 False  \n",
       "3                 False  \n",
       "4                 False  \n",
       "...                 ...  \n",
       "480331            False  \n",
       "480332            False  \n",
       "480333             True  \n",
       "480334            False  \n",
       "480335            False  \n",
       "\n",
       "[480336 rows x 9 columns]"
      ]
     },
     "execution_count": 306,
     "metadata": {},
     "output_type": "execute_result"
    }
   ],
   "source": [
    "people_df"
   ]
  },
  {
   "cell_type": "markdown",
   "metadata": {},
   "source": [
    "### Investors_df"
   ]
  },
  {
   "cell_type": "code",
   "execution_count": 307,
   "metadata": {},
   "outputs": [],
   "source": [
    "investors_df = investors_df.drop(columns=['permalink','cb_url','rank','created_at',\n",
    "                                          'updated_at','domain','country_code','state_code','region','city',\n",
    "                                          'founded_on','closed_on','facebook_url',\n",
    "                                          'linkedin_url','twitter_url','logo_url',\n",
    "                                          'total_funding_usd','total_funding','total_funding_currency_code',\n",
    "                                          'name','type','roles','investor_types'])"
   ]
  },
  {
   "cell_type": "code",
   "execution_count": 308,
   "metadata": {},
   "outputs": [],
   "source": [
    "# Rename columns\n",
    "investors_df = investors_df.rename(columns={'uuid':'lead_investor_uuid','investment_count':'lead_investment_count'})"
   ]
  },
  {
   "cell_type": "code",
   "execution_count": 309,
   "metadata": {},
   "outputs": [],
   "source": [
    "#investors_df"
   ]
  },
  {
   "cell_type": "markdown",
   "metadata": {},
   "source": [
    "### Funding_rounds_df"
   ]
  },
  {
   "cell_type": "code",
   "execution_count": 310,
   "metadata": {},
   "outputs": [],
   "source": [
    "funding_rounds_df = funding_rounds_df.drop(columns=['permalink','cb_url','rank','created_at',\n",
    "                                                    'updated_at','country_code','state_code',\n",
    "                                                    'region','city','announced_on','post_money_valuation',\n",
    "                                                    'post_money_valuation_currency_code',\n",
    "                                                    'raised_amount','raised_amount_currency_code','post_money_valuation_usd',\n",
    "                                                    'name','org_name','type'])"
   ]
  },
  {
   "cell_type": "code",
   "execution_count": 311,
   "metadata": {},
   "outputs": [],
   "source": [
    "# Exclude all rounds taking place after Series B\n",
    "rounds = ['angel', 'seed', 'series_a', 'series_b']\n",
    "check_rounds = lambda x: x in rounds\n",
    "\n",
    "cond = funding_rounds_df['investment_type'].map(check_rounds)\n",
    "funding_rounds_df = funding_rounds_df[cond]\n",
    "\n",
    "# We create an indicator variable to see if an investment round had a lead_investor\n",
    "# True means the round had a lead investor\n",
    "funding_rounds_df['lead_investor_ind'] = ~(funding_rounds_df['lead_investor_uuids'].isna())\n",
    "\n",
    "# Rename columns\n",
    "funding_rounds_df = funding_rounds_df.rename(columns={'uuid':'rounds_uuid','lead_investor_uuids':'lead_investor_uuid'})\n",
    "\n",
    "# Convert investment_type into dummies\n",
    "funding_rounds_df = funding_rounds_df = pd.get_dummies(funding_rounds_df,columns=['investment_type'])"
   ]
  },
  {
   "cell_type": "code",
   "execution_count": 312,
   "metadata": {},
   "outputs": [],
   "source": [
    "#funding_rounds_df"
   ]
  },
  {
   "cell_type": "markdown",
   "metadata": {},
   "source": [
    "### Degrees_df"
   ]
  },
  {
   "cell_type": "code",
   "execution_count": 313,
   "metadata": {},
   "outputs": [],
   "source": [
    "degrees_df = degrees_df.drop(columns=['permalink','cb_url','rank','created_at',\n",
    "                                      'updated_at','institution_uuid','institution_name','subject',\n",
    "                                      'name','person_name','institution_uuid','institution_name',\n",
    "                                      'degree_type','subject','started_on'])"
   ]
  },
  {
   "cell_type": "code",
   "execution_count": 314,
   "metadata": {},
   "outputs": [],
   "source": [
    "# Convert our dates into date_data\n",
    "# Convert invalid dates to NaT\n",
    "degrees_df['completed_on'] = pd.to_datetime(degrees_df['completed_on'],errors = 'coerce')\n",
    "\n",
    "# Find whether a person has completed a degree, how many degrees they have attempted, and the earliest completion date\n",
    "degrees_df = degrees_df.groupby(by=['person_uuid']).agg({'uuid':'count', 'is_completed':'sum', 'completed_on':'min'}).reset_index()\n",
    "degrees_df = degrees_df.rename(columns={'uuid':'num_degs_attempted', 'is_completed':'num_degs_finished', 'completed_on':'first_deg_completed_date'})"
   ]
  },
  {
   "cell_type": "code",
   "execution_count": 315,
   "metadata": {},
   "outputs": [
    {
     "data": {
      "text/html": [
       "<div>\n",
       "<style scoped>\n",
       "    .dataframe tbody tr th:only-of-type {\n",
       "        vertical-align: middle;\n",
       "    }\n",
       "\n",
       "    .dataframe tbody tr th {\n",
       "        vertical-align: top;\n",
       "    }\n",
       "\n",
       "    .dataframe thead th {\n",
       "        text-align: right;\n",
       "    }\n",
       "</style>\n",
       "<table border=\"1\" class=\"dataframe\">\n",
       "  <thead>\n",
       "    <tr style=\"text-align: right;\">\n",
       "      <th></th>\n",
       "      <th>person_uuid</th>\n",
       "      <th>num_degs_attempted</th>\n",
       "      <th>num_degs_finished</th>\n",
       "      <th>first_deg_completed_date</th>\n",
       "    </tr>\n",
       "  </thead>\n",
       "  <tbody>\n",
       "    <tr>\n",
       "      <th>0</th>\n",
       "      <td>000020dc-18ce-7f7b-e8c4-8f5d716ad09d</td>\n",
       "      <td>3</td>\n",
       "      <td>1</td>\n",
       "      <td>2012-01-01</td>\n",
       "    </tr>\n",
       "    <tr>\n",
       "      <th>1</th>\n",
       "      <td>00002852-4f2a-473a-ae63-810fa8d3f31f</td>\n",
       "      <td>1</td>\n",
       "      <td>1</td>\n",
       "      <td>2017-01-01</td>\n",
       "    </tr>\n",
       "    <tr>\n",
       "      <th>2</th>\n",
       "      <td>00006aa5-68cc-7430-eb3d-9bd8305dcb4d</td>\n",
       "      <td>2</td>\n",
       "      <td>0</td>\n",
       "      <td>NaT</td>\n",
       "    </tr>\n",
       "    <tr>\n",
       "      <th>3</th>\n",
       "      <td>0000a1a4-5804-cf06-d23e-cecc8017b220</td>\n",
       "      <td>2</td>\n",
       "      <td>0</td>\n",
       "      <td>NaT</td>\n",
       "    </tr>\n",
       "    <tr>\n",
       "      <th>4</th>\n",
       "      <td>0000bf3d-7645-e2ef-ec7b-0408a9b2f879</td>\n",
       "      <td>2</td>\n",
       "      <td>0</td>\n",
       "      <td>NaT</td>\n",
       "    </tr>\n",
       "    <tr>\n",
       "      <th>...</th>\n",
       "      <td>...</td>\n",
       "      <td>...</td>\n",
       "      <td>...</td>\n",
       "      <td>...</td>\n",
       "    </tr>\n",
       "    <tr>\n",
       "      <th>298766</th>\n",
       "      <td>fffedd65-2f76-4175-80db-e516c8357794</td>\n",
       "      <td>1</td>\n",
       "      <td>0</td>\n",
       "      <td>NaT</td>\n",
       "    </tr>\n",
       "    <tr>\n",
       "      <th>298767</th>\n",
       "      <td>fffee386-822f-4f78-a61d-6ee443ee0c15</td>\n",
       "      <td>1</td>\n",
       "      <td>1</td>\n",
       "      <td>1989-01-01</td>\n",
       "    </tr>\n",
       "    <tr>\n",
       "      <th>298768</th>\n",
       "      <td>fffefc19-5a64-6535-17c2-3155be76a204</td>\n",
       "      <td>1</td>\n",
       "      <td>0</td>\n",
       "      <td>NaT</td>\n",
       "    </tr>\n",
       "    <tr>\n",
       "      <th>298769</th>\n",
       "      <td>ffffd444-7490-e683-5277-aef4c3461614</td>\n",
       "      <td>3</td>\n",
       "      <td>0</td>\n",
       "      <td>NaT</td>\n",
       "    </tr>\n",
       "    <tr>\n",
       "      <th>298770</th>\n",
       "      <td>ffffd7c3-4ae9-ce73-c032-ea7ba99829fa</td>\n",
       "      <td>1</td>\n",
       "      <td>1</td>\n",
       "      <td>2010-01-01</td>\n",
       "    </tr>\n",
       "  </tbody>\n",
       "</table>\n",
       "<p>298771 rows × 4 columns</p>\n",
       "</div>"
      ],
      "text/plain": [
       "                                 person_uuid  num_degs_attempted  \\\n",
       "0       000020dc-18ce-7f7b-e8c4-8f5d716ad09d                   3   \n",
       "1       00002852-4f2a-473a-ae63-810fa8d3f31f                   1   \n",
       "2       00006aa5-68cc-7430-eb3d-9bd8305dcb4d                   2   \n",
       "3       0000a1a4-5804-cf06-d23e-cecc8017b220                   2   \n",
       "4       0000bf3d-7645-e2ef-ec7b-0408a9b2f879                   2   \n",
       "...                                      ...                 ...   \n",
       "298766  fffedd65-2f76-4175-80db-e516c8357794                   1   \n",
       "298767  fffee386-822f-4f78-a61d-6ee443ee0c15                   1   \n",
       "298768  fffefc19-5a64-6535-17c2-3155be76a204                   1   \n",
       "298769  ffffd444-7490-e683-5277-aef4c3461614                   3   \n",
       "298770  ffffd7c3-4ae9-ce73-c032-ea7ba99829fa                   1   \n",
       "\n",
       "        num_degs_finished first_deg_completed_date  \n",
       "0                       1               2012-01-01  \n",
       "1                       1               2017-01-01  \n",
       "2                       0                      NaT  \n",
       "3                       0                      NaT  \n",
       "4                       0                      NaT  \n",
       "...                   ...                      ...  \n",
       "298766                  0                      NaT  \n",
       "298767                  1               1989-01-01  \n",
       "298768                  0                      NaT  \n",
       "298769                  0                      NaT  \n",
       "298770                  1               2010-01-01  \n",
       "\n",
       "[298771 rows x 4 columns]"
      ]
     },
     "execution_count": 315,
     "metadata": {},
     "output_type": "execute_result"
    }
   ],
   "source": [
    "degrees_df"
   ]
  },
  {
   "cell_type": "markdown",
   "metadata": {},
   "source": [
    "### Category_groups_df"
   ]
  },
  {
   "cell_type": "code",
   "execution_count": 316,
   "metadata": {},
   "outputs": [],
   "source": [
    "category_groups_df = category_groups_df.drop(columns=['permalink','cb_url','rank','created_at','updated_at'])"
   ]
  },
  {
   "cell_type": "code",
   "execution_count": 317,
   "metadata": {},
   "outputs": [
    {
     "data": {
      "text/html": [
       "<div>\n",
       "<style scoped>\n",
       "    .dataframe tbody tr th:only-of-type {\n",
       "        vertical-align: middle;\n",
       "    }\n",
       "\n",
       "    .dataframe tbody tr th {\n",
       "        vertical-align: top;\n",
       "    }\n",
       "\n",
       "    .dataframe thead th {\n",
       "        text-align: right;\n",
       "    }\n",
       "</style>\n",
       "<table border=\"1\" class=\"dataframe\">\n",
       "  <thead>\n",
       "    <tr style=\"text-align: right;\">\n",
       "      <th></th>\n",
       "      <th>uuid</th>\n",
       "      <th>name</th>\n",
       "      <th>type</th>\n",
       "      <th>category_groups_list</th>\n",
       "    </tr>\n",
       "  </thead>\n",
       "  <tbody>\n",
       "    <tr>\n",
       "      <th>0</th>\n",
       "      <td>f9b14a15-5517-8f38-0562-729ebb54dfdb</td>\n",
       "      <td>Homeless Shelter</td>\n",
       "      <td>category</td>\n",
       "      <td>Other</td>\n",
       "    </tr>\n",
       "    <tr>\n",
       "      <th>1</th>\n",
       "      <td>f8320fcf-b657-37d2-1495-daa3ad888ece</td>\n",
       "      <td>Freemium</td>\n",
       "      <td>category</td>\n",
       "      <td>Other</td>\n",
       "    </tr>\n",
       "    <tr>\n",
       "      <th>2</th>\n",
       "      <td>f0193199-a968-b457-eb49-95344e22a5ce</td>\n",
       "      <td>Industrial</td>\n",
       "      <td>category</td>\n",
       "      <td>Manufacturing</td>\n",
       "    </tr>\n",
       "    <tr>\n",
       "      <th>3</th>\n",
       "      <td>ed8217ff-bd11-26fe-d82e-eb98a276dc2e</td>\n",
       "      <td>Innovation Management</td>\n",
       "      <td>category</td>\n",
       "      <td>Professional Services</td>\n",
       "    </tr>\n",
       "    <tr>\n",
       "      <th>4</th>\n",
       "      <td>e9794581-9547-2150-8185-7b747f5c9913</td>\n",
       "      <td>Lighting</td>\n",
       "      <td>category</td>\n",
       "      <td>Hardware</td>\n",
       "    </tr>\n",
       "    <tr>\n",
       "      <th>...</th>\n",
       "      <td>...</td>\n",
       "      <td>...</td>\n",
       "      <td>...</td>\n",
       "      <td>...</td>\n",
       "    </tr>\n",
       "    <tr>\n",
       "      <th>739</th>\n",
       "      <td>68413bd1-e42d-4cf1-815b-62e64a6b922a</td>\n",
       "      <td>Quantum Computing</td>\n",
       "      <td>category</td>\n",
       "      <td>Science and Engineering</td>\n",
       "    </tr>\n",
       "    <tr>\n",
       "      <th>740</th>\n",
       "      <td>3e0e2772-75e9-4f7b-aa6d-a8dc3dc9e7c6</td>\n",
       "      <td>Marine Technology</td>\n",
       "      <td>category</td>\n",
       "      <td>Science and Engineering</td>\n",
       "    </tr>\n",
       "    <tr>\n",
       "      <th>741</th>\n",
       "      <td>ce11fd97-65a0-4f8c-b385-2ca48f444479</td>\n",
       "      <td>Smart Cities</td>\n",
       "      <td>category</td>\n",
       "      <td>Real Estate</td>\n",
       "    </tr>\n",
       "    <tr>\n",
       "      <th>742</th>\n",
       "      <td>b561fa84-cb20-4a82-a6bc-fea613d74cdd</td>\n",
       "      <td>Last Mile Transportation</td>\n",
       "      <td>category</td>\n",
       "      <td>Transportation</td>\n",
       "    </tr>\n",
       "    <tr>\n",
       "      <th>743</th>\n",
       "      <td>3fb898d3-4b96-418e-a58e-eaff8295e182</td>\n",
       "      <td>Legal Tech</td>\n",
       "      <td>category</td>\n",
       "      <td>Professional Services</td>\n",
       "    </tr>\n",
       "  </tbody>\n",
       "</table>\n",
       "<p>744 rows × 4 columns</p>\n",
       "</div>"
      ],
      "text/plain": [
       "                                     uuid                      name      type  \\\n",
       "0    f9b14a15-5517-8f38-0562-729ebb54dfdb          Homeless Shelter  category   \n",
       "1    f8320fcf-b657-37d2-1495-daa3ad888ece                  Freemium  category   \n",
       "2    f0193199-a968-b457-eb49-95344e22a5ce                Industrial  category   \n",
       "3    ed8217ff-bd11-26fe-d82e-eb98a276dc2e     Innovation Management  category   \n",
       "4    e9794581-9547-2150-8185-7b747f5c9913                  Lighting  category   \n",
       "..                                    ...                       ...       ...   \n",
       "739  68413bd1-e42d-4cf1-815b-62e64a6b922a         Quantum Computing  category   \n",
       "740  3e0e2772-75e9-4f7b-aa6d-a8dc3dc9e7c6         Marine Technology  category   \n",
       "741  ce11fd97-65a0-4f8c-b385-2ca48f444479              Smart Cities  category   \n",
       "742  b561fa84-cb20-4a82-a6bc-fea613d74cdd  Last Mile Transportation  category   \n",
       "743  3fb898d3-4b96-418e-a58e-eaff8295e182                Legal Tech  category   \n",
       "\n",
       "        category_groups_list  \n",
       "0                      Other  \n",
       "1                      Other  \n",
       "2              Manufacturing  \n",
       "3      Professional Services  \n",
       "4                   Hardware  \n",
       "..                       ...  \n",
       "739  Science and Engineering  \n",
       "740  Science and Engineering  \n",
       "741              Real Estate  \n",
       "742           Transportation  \n",
       "743    Professional Services  \n",
       "\n",
       "[744 rows x 4 columns]"
      ]
     },
     "execution_count": 317,
     "metadata": {},
     "output_type": "execute_result"
    }
   ],
   "source": [
    "category_groups_df"
   ]
  },
  {
   "cell_type": "markdown",
   "metadata": {},
   "source": [
    "### Merging to obtain final dataset"
   ]
  },
  {
   "cell_type": "code",
   "execution_count": 318,
   "metadata": {},
   "outputs": [
    {
     "data": {
      "text/html": [
       "<div>\n",
       "<style scoped>\n",
       "    .dataframe tbody tr th:only-of-type {\n",
       "        vertical-align: middle;\n",
       "    }\n",
       "\n",
       "    .dataframe tbody tr th {\n",
       "        vertical-align: top;\n",
       "    }\n",
       "\n",
       "    .dataframe thead th {\n",
       "        text-align: right;\n",
       "    }\n",
       "</style>\n",
       "<table border=\"1\" class=\"dataframe\">\n",
       "  <thead>\n",
       "    <tr style=\"text-align: right;\">\n",
       "      <th></th>\n",
       "      <th>uuid</th>\n",
       "      <th>name</th>\n",
       "      <th>type</th>\n",
       "      <th>roles</th>\n",
       "      <th>domain</th>\n",
       "      <th>homepage_url</th>\n",
       "      <th>country_code</th>\n",
       "      <th>state_code</th>\n",
       "      <th>region</th>\n",
       "      <th>city</th>\n",
       "      <th>...</th>\n",
       "      <th>postal_code</th>\n",
       "      <th>status</th>\n",
       "      <th>category_list</th>\n",
       "      <th>category_groups_list</th>\n",
       "      <th>num_funding_rounds</th>\n",
       "      <th>total_funding_usd</th>\n",
       "      <th>founded_on</th>\n",
       "      <th>last_funding_on</th>\n",
       "      <th>closed_on</th>\n",
       "      <th>employee_count</th>\n",
       "    </tr>\n",
       "  </thead>\n",
       "  <tbody>\n",
       "    <tr>\n",
       "      <th>0</th>\n",
       "      <td>e1393508-30ea-8a36-3f96-dd3226033abd</td>\n",
       "      <td>Wetpaint</td>\n",
       "      <td>organization</td>\n",
       "      <td>company</td>\n",
       "      <td>wetpaint.com</td>\n",
       "      <td>http://www.wetpaint.com/</td>\n",
       "      <td>USA</td>\n",
       "      <td>NY</td>\n",
       "      <td>New York</td>\n",
       "      <td>New York</td>\n",
       "      <td>...</td>\n",
       "      <td>10010</td>\n",
       "      <td>acquired</td>\n",
       "      <td>Publishing,Social Media,Social Media Management</td>\n",
       "      <td>Content and Publishing,Internet Services,Media...</td>\n",
       "      <td>3.0</td>\n",
       "      <td>3.975000e+07</td>\n",
       "      <td>2005-06-01</td>\n",
       "      <td>2008-05-19</td>\n",
       "      <td>NaN</td>\n",
       "      <td>51-100</td>\n",
       "    </tr>\n",
       "    <tr>\n",
       "      <th>1</th>\n",
       "      <td>bf4d7b0e-b34d-2fd8-d292-6049c4f7efc7</td>\n",
       "      <td>Zoho</td>\n",
       "      <td>organization</td>\n",
       "      <td>investor,company</td>\n",
       "      <td>zoho.com</td>\n",
       "      <td>https://www.zoho.com/</td>\n",
       "      <td>USA</td>\n",
       "      <td>CA</td>\n",
       "      <td>California</td>\n",
       "      <td>Pleasanton</td>\n",
       "      <td>...</td>\n",
       "      <td>94588</td>\n",
       "      <td>operating</td>\n",
       "      <td>Cloud Computing,Collaboration,CRM,Developer To...</td>\n",
       "      <td>Administrative Services,Information Technology...</td>\n",
       "      <td>NaN</td>\n",
       "      <td>NaN</td>\n",
       "      <td>1996-09-15</td>\n",
       "      <td>NaN</td>\n",
       "      <td>NaN</td>\n",
       "      <td>1001-5000</td>\n",
       "    </tr>\n",
       "    <tr>\n",
       "      <th>2</th>\n",
       "      <td>5f2b40b8-d1b3-d323-d81a-b7a8e89553d0</td>\n",
       "      <td>Digg</td>\n",
       "      <td>organization</td>\n",
       "      <td>company</td>\n",
       "      <td>digg.com</td>\n",
       "      <td>http://www.digg.com</td>\n",
       "      <td>USA</td>\n",
       "      <td>NY</td>\n",
       "      <td>New York</td>\n",
       "      <td>New York</td>\n",
       "      <td>...</td>\n",
       "      <td>NaN</td>\n",
       "      <td>acquired</td>\n",
       "      <td>Internet,Social Media,Social Network</td>\n",
       "      <td>Internet Services,Media and Entertainment</td>\n",
       "      <td>6.0</td>\n",
       "      <td>4.900000e+07</td>\n",
       "      <td>2004-10-11</td>\n",
       "      <td>2016-09-13</td>\n",
       "      <td>NaN</td>\n",
       "      <td>51-100</td>\n",
       "    </tr>\n",
       "    <tr>\n",
       "      <th>4</th>\n",
       "      <td>df662812-7f97-0b43-9d3e-12f64f504fbb</td>\n",
       "      <td>Facebook</td>\n",
       "      <td>organization</td>\n",
       "      <td>investor,company</td>\n",
       "      <td>facebook.com</td>\n",
       "      <td>http://www.facebook.com</td>\n",
       "      <td>USA</td>\n",
       "      <td>CA</td>\n",
       "      <td>California</td>\n",
       "      <td>Menlo Park</td>\n",
       "      <td>...</td>\n",
       "      <td>94025</td>\n",
       "      <td>ipo</td>\n",
       "      <td>Mobile Apps,Photo Sharing,Social Media,Social ...</td>\n",
       "      <td>Apps,Content and Publishing,Internet Services,...</td>\n",
       "      <td>16.0</td>\n",
       "      <td>1.612282e+10</td>\n",
       "      <td>2004-02-04</td>\n",
       "      <td>2014-10-20</td>\n",
       "      <td>NaN</td>\n",
       "      <td>10000+</td>\n",
       "    </tr>\n",
       "    <tr>\n",
       "      <th>8</th>\n",
       "      <td>60485007-8856-bbac-aa1b-c535c41f5f47</td>\n",
       "      <td>Omnidrive</td>\n",
       "      <td>organization</td>\n",
       "      <td>company</td>\n",
       "      <td>omnidrive.com</td>\n",
       "      <td>http://www.omnidrive.com</td>\n",
       "      <td>USA</td>\n",
       "      <td>CA</td>\n",
       "      <td>California</td>\n",
       "      <td>Palo Alto</td>\n",
       "      <td>...</td>\n",
       "      <td>94301</td>\n",
       "      <td>closed</td>\n",
       "      <td>E-Commerce,File Sharing,Internet,Social Media,...</td>\n",
       "      <td>Commerce and Shopping,Internet Services,Media ...</td>\n",
       "      <td>1.0</td>\n",
       "      <td>8.000000e+05</td>\n",
       "      <td>2005-11-01</td>\n",
       "      <td>2006-12-01</td>\n",
       "      <td>2008-09-15</td>\n",
       "      <td>unknown</td>\n",
       "    </tr>\n",
       "    <tr>\n",
       "      <th>...</th>\n",
       "      <td>...</td>\n",
       "      <td>...</td>\n",
       "      <td>...</td>\n",
       "      <td>...</td>\n",
       "      <td>...</td>\n",
       "      <td>...</td>\n",
       "      <td>...</td>\n",
       "      <td>...</td>\n",
       "      <td>...</td>\n",
       "      <td>...</td>\n",
       "      <td>...</td>\n",
       "      <td>...</td>\n",
       "      <td>...</td>\n",
       "      <td>...</td>\n",
       "      <td>...</td>\n",
       "      <td>...</td>\n",
       "      <td>...</td>\n",
       "      <td>...</td>\n",
       "      <td>...</td>\n",
       "      <td>...</td>\n",
       "      <td>...</td>\n",
       "    </tr>\n",
       "    <tr>\n",
       "      <th>1642150</th>\n",
       "      <td>9e8f537a-ae5d-4b53-a99a-c794736de0e9</td>\n",
       "      <td>Dearmitt Financial Group LLC</td>\n",
       "      <td>organization</td>\n",
       "      <td>company</td>\n",
       "      <td>dearmittfg.com</td>\n",
       "      <td>https://www.dearmittfg.com/</td>\n",
       "      <td>USA</td>\n",
       "      <td>IN</td>\n",
       "      <td>Indiana</td>\n",
       "      <td>Franklin</td>\n",
       "      <td>...</td>\n",
       "      <td>46131</td>\n",
       "      <td>operating</td>\n",
       "      <td>Advice,Consulting,Financial Services</td>\n",
       "      <td>Financial Services,Media and Entertainment,Pro...</td>\n",
       "      <td>NaN</td>\n",
       "      <td>NaN</td>\n",
       "      <td>2006-09-01</td>\n",
       "      <td>NaN</td>\n",
       "      <td>NaN</td>\n",
       "      <td>11-50</td>\n",
       "    </tr>\n",
       "    <tr>\n",
       "      <th>1642153</th>\n",
       "      <td>587a5a70-09b1-4ceb-a559-a131eee78dc0</td>\n",
       "      <td>Adler Real Estate Partners</td>\n",
       "      <td>organization</td>\n",
       "      <td>company</td>\n",
       "      <td>adler-partners.com</td>\n",
       "      <td>https://adler-partners.com/</td>\n",
       "      <td>USA</td>\n",
       "      <td>FL</td>\n",
       "      <td>Florida</td>\n",
       "      <td>Miami</td>\n",
       "      <td>...</td>\n",
       "      <td>33131</td>\n",
       "      <td>operating</td>\n",
       "      <td>Commercial,Commercial Real Estate,Real Estate</td>\n",
       "      <td>Other,Real Estate</td>\n",
       "      <td>NaN</td>\n",
       "      <td>NaN</td>\n",
       "      <td>2012-01-01</td>\n",
       "      <td>NaN</td>\n",
       "      <td>NaN</td>\n",
       "      <td>11-50</td>\n",
       "    </tr>\n",
       "    <tr>\n",
       "      <th>1642154</th>\n",
       "      <td>118af019-6af0-46d1-8774-67ccd757b3c2</td>\n",
       "      <td>Arctic Fox</td>\n",
       "      <td>organization</td>\n",
       "      <td>company</td>\n",
       "      <td>arcticfoxhaircolor.com</td>\n",
       "      <td>https://arcticfoxhaircolor.com/</td>\n",
       "      <td>USA</td>\n",
       "      <td>CA</td>\n",
       "      <td>California</td>\n",
       "      <td>Cerritos</td>\n",
       "      <td>...</td>\n",
       "      <td>90703</td>\n",
       "      <td>operating</td>\n",
       "      <td>Beauty,Commercial,Cosmetics,E-Commerce</td>\n",
       "      <td>Commerce and Shopping,Consumer Goods,Other</td>\n",
       "      <td>NaN</td>\n",
       "      <td>NaN</td>\n",
       "      <td>2014-01-01</td>\n",
       "      <td>NaN</td>\n",
       "      <td>NaN</td>\n",
       "      <td>11-50</td>\n",
       "    </tr>\n",
       "    <tr>\n",
       "      <th>1642156</th>\n",
       "      <td>8033c823-373f-4087-bb1c-6cfa6adbe821</td>\n",
       "      <td>Creative Commercial Group</td>\n",
       "      <td>organization</td>\n",
       "      <td>company</td>\n",
       "      <td>creativecommercialgroup.com</td>\n",
       "      <td>http://www.creativecommercialgroup.com/</td>\n",
       "      <td>USA</td>\n",
       "      <td>CA</td>\n",
       "      <td>California</td>\n",
       "      <td>San Rafael</td>\n",
       "      <td>...</td>\n",
       "      <td>94901</td>\n",
       "      <td>operating</td>\n",
       "      <td>Commercial,Commercial Real Estate,Finance,Fina...</td>\n",
       "      <td>Financial Services,Other,Real Estate</td>\n",
       "      <td>NaN</td>\n",
       "      <td>NaN</td>\n",
       "      <td>2013-01-01</td>\n",
       "      <td>NaN</td>\n",
       "      <td>NaN</td>\n",
       "      <td>11-50</td>\n",
       "    </tr>\n",
       "    <tr>\n",
       "      <th>1642162</th>\n",
       "      <td>294c5e83-3580-4f6e-9cd3-85a0a97f675c</td>\n",
       "      <td>LiveBeyond</td>\n",
       "      <td>organization</td>\n",
       "      <td>company</td>\n",
       "      <td>livebeyond.org</td>\n",
       "      <td>https://livebeyond.org/</td>\n",
       "      <td>USA</td>\n",
       "      <td>TN</td>\n",
       "      <td>Tennessee</td>\n",
       "      <td>Nashville</td>\n",
       "      <td>...</td>\n",
       "      <td>37212</td>\n",
       "      <td>operating</td>\n",
       "      <td>Charity,Child Care,Children,Education,Non Profit</td>\n",
       "      <td>Community and Lifestyle,Education,Health Care,...</td>\n",
       "      <td>NaN</td>\n",
       "      <td>NaN</td>\n",
       "      <td>2012-01-01</td>\n",
       "      <td>NaN</td>\n",
       "      <td>NaN</td>\n",
       "      <td>11-50</td>\n",
       "    </tr>\n",
       "  </tbody>\n",
       "</table>\n",
       "<p>280138 rows × 21 columns</p>\n",
       "</div>"
      ],
      "text/plain": [
       "                                         uuid                          name  \\\n",
       "0        e1393508-30ea-8a36-3f96-dd3226033abd                      Wetpaint   \n",
       "1        bf4d7b0e-b34d-2fd8-d292-6049c4f7efc7                          Zoho   \n",
       "2        5f2b40b8-d1b3-d323-d81a-b7a8e89553d0                          Digg   \n",
       "4        df662812-7f97-0b43-9d3e-12f64f504fbb                      Facebook   \n",
       "8        60485007-8856-bbac-aa1b-c535c41f5f47                     Omnidrive   \n",
       "...                                       ...                           ...   \n",
       "1642150  9e8f537a-ae5d-4b53-a99a-c794736de0e9  Dearmitt Financial Group LLC   \n",
       "1642153  587a5a70-09b1-4ceb-a559-a131eee78dc0    Adler Real Estate Partners   \n",
       "1642154  118af019-6af0-46d1-8774-67ccd757b3c2                    Arctic Fox   \n",
       "1642156  8033c823-373f-4087-bb1c-6cfa6adbe821     Creative Commercial Group   \n",
       "1642162  294c5e83-3580-4f6e-9cd3-85a0a97f675c                    LiveBeyond   \n",
       "\n",
       "                 type             roles                       domain  \\\n",
       "0        organization           company                 wetpaint.com   \n",
       "1        organization  investor,company                     zoho.com   \n",
       "2        organization           company                     digg.com   \n",
       "4        organization  investor,company                 facebook.com   \n",
       "8        organization           company                omnidrive.com   \n",
       "...               ...               ...                          ...   \n",
       "1642150  organization           company               dearmittfg.com   \n",
       "1642153  organization           company           adler-partners.com   \n",
       "1642154  organization           company       arcticfoxhaircolor.com   \n",
       "1642156  organization           company  creativecommercialgroup.com   \n",
       "1642162  organization           company               livebeyond.org   \n",
       "\n",
       "                                    homepage_url country_code state_code  \\\n",
       "0                       http://www.wetpaint.com/          USA         NY   \n",
       "1                          https://www.zoho.com/          USA         CA   \n",
       "2                            http://www.digg.com          USA         NY   \n",
       "4                        http://www.facebook.com          USA         CA   \n",
       "8                       http://www.omnidrive.com          USA         CA   \n",
       "...                                          ...          ...        ...   \n",
       "1642150              https://www.dearmittfg.com/          USA         IN   \n",
       "1642153              https://adler-partners.com/          USA         FL   \n",
       "1642154          https://arcticfoxhaircolor.com/          USA         CA   \n",
       "1642156  http://www.creativecommercialgroup.com/          USA         CA   \n",
       "1642162                  https://livebeyond.org/          USA         TN   \n",
       "\n",
       "             region        city  ... postal_code     status  \\\n",
       "0          New York    New York  ...       10010   acquired   \n",
       "1        California  Pleasanton  ...       94588  operating   \n",
       "2          New York    New York  ...         NaN   acquired   \n",
       "4        California  Menlo Park  ...       94025        ipo   \n",
       "8        California   Palo Alto  ...       94301     closed   \n",
       "...             ...         ...  ...         ...        ...   \n",
       "1642150     Indiana    Franklin  ...       46131  operating   \n",
       "1642153     Florida       Miami  ...       33131  operating   \n",
       "1642154  California    Cerritos  ...       90703  operating   \n",
       "1642156  California  San Rafael  ...       94901  operating   \n",
       "1642162   Tennessee   Nashville  ...       37212  operating   \n",
       "\n",
       "                                             category_list  \\\n",
       "0          Publishing,Social Media,Social Media Management   \n",
       "1        Cloud Computing,Collaboration,CRM,Developer To...   \n",
       "2                     Internet,Social Media,Social Network   \n",
       "4        Mobile Apps,Photo Sharing,Social Media,Social ...   \n",
       "8        E-Commerce,File Sharing,Internet,Social Media,...   \n",
       "...                                                    ...   \n",
       "1642150               Advice,Consulting,Financial Services   \n",
       "1642153      Commercial,Commercial Real Estate,Real Estate   \n",
       "1642154             Beauty,Commercial,Cosmetics,E-Commerce   \n",
       "1642156  Commercial,Commercial Real Estate,Finance,Fina...   \n",
       "1642162   Charity,Child Care,Children,Education,Non Profit   \n",
       "\n",
       "                                      category_groups_list num_funding_rounds  \\\n",
       "0        Content and Publishing,Internet Services,Media...                3.0   \n",
       "1        Administrative Services,Information Technology...                NaN   \n",
       "2                Internet Services,Media and Entertainment                6.0   \n",
       "4        Apps,Content and Publishing,Internet Services,...               16.0   \n",
       "8        Commerce and Shopping,Internet Services,Media ...                1.0   \n",
       "...                                                    ...                ...   \n",
       "1642150  Financial Services,Media and Entertainment,Pro...                NaN   \n",
       "1642153                                  Other,Real Estate                NaN   \n",
       "1642154         Commerce and Shopping,Consumer Goods,Other                NaN   \n",
       "1642156               Financial Services,Other,Real Estate                NaN   \n",
       "1642162  Community and Lifestyle,Education,Health Care,...                NaN   \n",
       "\n",
       "         total_funding_usd  founded_on last_funding_on   closed_on  \\\n",
       "0             3.975000e+07  2005-06-01      2008-05-19         NaN   \n",
       "1                      NaN  1996-09-15             NaN         NaN   \n",
       "2             4.900000e+07  2004-10-11      2016-09-13         NaN   \n",
       "4             1.612282e+10  2004-02-04      2014-10-20         NaN   \n",
       "8             8.000000e+05  2005-11-01      2006-12-01  2008-09-15   \n",
       "...                    ...         ...             ...         ...   \n",
       "1642150                NaN  2006-09-01             NaN         NaN   \n",
       "1642153                NaN  2012-01-01             NaN         NaN   \n",
       "1642154                NaN  2014-01-01             NaN         NaN   \n",
       "1642156                NaN  2013-01-01             NaN         NaN   \n",
       "1642162                NaN  2012-01-01             NaN         NaN   \n",
       "\n",
       "        employee_count  \n",
       "0               51-100  \n",
       "1            1001-5000  \n",
       "2               51-100  \n",
       "4               10000+  \n",
       "8              unknown  \n",
       "...                ...  \n",
       "1642150          11-50  \n",
       "1642153          11-50  \n",
       "1642154          11-50  \n",
       "1642156          11-50  \n",
       "1642162          11-50  \n",
       "\n",
       "[280138 rows x 21 columns]"
      ]
     },
     "execution_count": 318,
     "metadata": {},
     "output_type": "execute_result"
    }
   ],
   "source": [
    "organizations_df"
   ]
  },
  {
   "cell_type": "code",
   "execution_count": 319,
   "metadata": {},
   "outputs": [],
   "source": [
    "# Merge tables to fully include degree and job information\n",
    "full_people_df = people_df.merge(degrees_df,how='inner',on='person_uuid')"
   ]
  },
  {
   "cell_type": "code",
   "execution_count": 320,
   "metadata": {},
   "outputs": [],
   "source": [
    "# Merge tables to fully include lead investor information\n",
    "rounds_df = funding_rounds_df.merge(investors_df,how='left',on='lead_investor_uuid')"
   ]
  },
  {
   "cell_type": "code",
   "execution_count": 321,
   "metadata": {},
   "outputs": [],
   "source": [
    "angel_df = rounds_df[rounds_df['investment_type_angel'] == 1].drop(columns=['investment_type_seed','investment_type_series_a',\n",
    "                                                                                      'investment_type_series_b','rounds_uuid'])\n",
    "angel_df = angel_df.rename(columns={'raised_amount_usd':'angel_raised_amount','investor_count':'angel_investor_count',\n",
    "                            'lead_investor_uuid':'angel_lead_investor','lead_investor_ind':'angel_investor_ind',\n",
    "                            'investment_count':'angel_investment_count','lead_investment_count':'lead_angel_count'})\n",
    "\n",
    "seed_df = rounds_df[rounds_df['investment_type_seed'] == 1].drop(columns=['investment_type_angel','investment_type_series_a',\n",
    "                                                                                      'investment_type_series_b','rounds_uuid'])\n",
    "seed_df = seed_df.rename(columns={'raised_amount_usd':'seed_raised_amount','investor_count':'seed_investor_count',\n",
    "                            'lead_investor_uuid':'seed_lead_investor','lead_investor_ind':'seed_investor_ind','lead_investment_count':'lead_seed_count',\n",
    "                            'investment_count':'seed_investment_count'})\n",
    "\n",
    "SeriesA_df = rounds_df[rounds_df['investment_type_series_a'] == 1].drop(columns=['investment_type_seed','investment_type_angel',\n",
    "                                                                                      'investment_type_series_b','rounds_uuid'])\n",
    "SeriesA_df = SeriesA_df.rename(columns={'raised_amount_usd':'series_a_raised_amount','investor_count':'series_a_investor_count',\n",
    "                            'lead_investor_uuid':'series_a_lead_investor','lead_investor_ind':'series_a_investor_ind','lead_investment_count':'lead_series_a_count',\n",
    "                            'investment_count':'series_a_investment_count'})\n",
    "\n",
    "SeriesB_df = rounds_df[rounds_df['investment_type_series_b'] == 1].drop(columns=['raised_amount_usd','investor_count','org_uuid','lead_investor_uuid',\n",
    "                                                                                           'lead_investor_ind','investment_type_angel','investment_type_seed',\n",
    "                                                                                           'investment_type_series_a','lead_investment_count'])"
   ]
  },
  {
   "cell_type": "code",
   "execution_count": 322,
   "metadata": {},
   "outputs": [
    {
     "ename": "KeyError",
     "evalue": "'org_uuid'",
     "output_type": "error",
     "traceback": [
      "\u001b[0;31m---------------------------------------------------------------------------\u001b[0m",
      "\u001b[0;31mKeyError\u001b[0m                                  Traceback (most recent call last)",
      "\u001b[0;32m<ipython-input-322-f5830b986148>\u001b[0m in \u001b[0;36m<module>\u001b[0;34m\u001b[0m\n\u001b[1;32m      1\u001b[0m \u001b[0mfull_rounds_df\u001b[0m \u001b[0;34m=\u001b[0m \u001b[0mangel_df\u001b[0m\u001b[0;34m.\u001b[0m\u001b[0mmerge\u001b[0m\u001b[0;34m(\u001b[0m\u001b[0mseed_df\u001b[0m\u001b[0;34m,\u001b[0m\u001b[0mhow\u001b[0m\u001b[0;34m=\u001b[0m\u001b[0;34m'left'\u001b[0m\u001b[0;34m,\u001b[0m\u001b[0mon\u001b[0m\u001b[0;34m=\u001b[0m\u001b[0;34m'org_uuid'\u001b[0m\u001b[0;34m)\u001b[0m\u001b[0;34m\u001b[0m\u001b[0;34m\u001b[0m\u001b[0m\n\u001b[1;32m      2\u001b[0m \u001b[0mfull_rounds_df\u001b[0m \u001b[0;34m=\u001b[0m \u001b[0mfull_rounds_df\u001b[0m\u001b[0;34m.\u001b[0m\u001b[0mmerge\u001b[0m\u001b[0;34m(\u001b[0m\u001b[0mSeriesA_df\u001b[0m\u001b[0;34m,\u001b[0m\u001b[0mhow\u001b[0m\u001b[0;34m=\u001b[0m\u001b[0;34m'left'\u001b[0m\u001b[0;34m,\u001b[0m\u001b[0mon\u001b[0m\u001b[0;34m=\u001b[0m\u001b[0;34m'org_uuid'\u001b[0m\u001b[0;34m)\u001b[0m\u001b[0;34m\u001b[0m\u001b[0;34m\u001b[0m\u001b[0m\n\u001b[0;32m----> 3\u001b[0;31m \u001b[0mfull_rounds_df\u001b[0m \u001b[0;34m=\u001b[0m \u001b[0mfull_rounds_df\u001b[0m\u001b[0;34m.\u001b[0m\u001b[0mmerge\u001b[0m\u001b[0;34m(\u001b[0m\u001b[0mSeriesB_df\u001b[0m\u001b[0;34m,\u001b[0m\u001b[0mhow\u001b[0m\u001b[0;34m=\u001b[0m\u001b[0;34m'left'\u001b[0m\u001b[0;34m,\u001b[0m\u001b[0mon\u001b[0m\u001b[0;34m=\u001b[0m\u001b[0;34m'org_uuid'\u001b[0m\u001b[0;34m)\u001b[0m\u001b[0;34m\u001b[0m\u001b[0;34m\u001b[0m\u001b[0m\n\u001b[0m",
      "\u001b[0;32m/opt/anaconda3/envs/cs109a/lib/python3.9/site-packages/pandas/core/frame.py\u001b[0m in \u001b[0;36mmerge\u001b[0;34m(self, right, how, on, left_on, right_on, left_index, right_index, sort, suffixes, copy, indicator, validate)\u001b[0m\n\u001b[1;32m   9184\u001b[0m         \u001b[0;32mfrom\u001b[0m \u001b[0mpandas\u001b[0m\u001b[0;34m.\u001b[0m\u001b[0mcore\u001b[0m\u001b[0;34m.\u001b[0m\u001b[0mreshape\u001b[0m\u001b[0;34m.\u001b[0m\u001b[0mmerge\u001b[0m \u001b[0;32mimport\u001b[0m \u001b[0mmerge\u001b[0m\u001b[0;34m\u001b[0m\u001b[0;34m\u001b[0m\u001b[0m\n\u001b[1;32m   9185\u001b[0m \u001b[0;34m\u001b[0m\u001b[0m\n\u001b[0;32m-> 9186\u001b[0;31m         return merge(\n\u001b[0m\u001b[1;32m   9187\u001b[0m             \u001b[0mself\u001b[0m\u001b[0;34m,\u001b[0m\u001b[0;34m\u001b[0m\u001b[0;34m\u001b[0m\u001b[0m\n\u001b[1;32m   9188\u001b[0m             \u001b[0mright\u001b[0m\u001b[0;34m,\u001b[0m\u001b[0;34m\u001b[0m\u001b[0;34m\u001b[0m\u001b[0m\n",
      "\u001b[0;32m/opt/anaconda3/envs/cs109a/lib/python3.9/site-packages/pandas/core/reshape/merge.py\u001b[0m in \u001b[0;36mmerge\u001b[0;34m(left, right, how, on, left_on, right_on, left_index, right_index, sort, suffixes, copy, indicator, validate)\u001b[0m\n\u001b[1;32m    105\u001b[0m     \u001b[0mvalidate\u001b[0m\u001b[0;34m:\u001b[0m \u001b[0mstr\u001b[0m \u001b[0;34m|\u001b[0m \u001b[0;32mNone\u001b[0m \u001b[0;34m=\u001b[0m \u001b[0;32mNone\u001b[0m\u001b[0;34m,\u001b[0m\u001b[0;34m\u001b[0m\u001b[0;34m\u001b[0m\u001b[0m\n\u001b[1;32m    106\u001b[0m ) -> DataFrame:\n\u001b[0;32m--> 107\u001b[0;31m     op = _MergeOperation(\n\u001b[0m\u001b[1;32m    108\u001b[0m         \u001b[0mleft\u001b[0m\u001b[0;34m,\u001b[0m\u001b[0;34m\u001b[0m\u001b[0;34m\u001b[0m\u001b[0m\n\u001b[1;32m    109\u001b[0m         \u001b[0mright\u001b[0m\u001b[0;34m,\u001b[0m\u001b[0;34m\u001b[0m\u001b[0;34m\u001b[0m\u001b[0m\n",
      "\u001b[0;32m/opt/anaconda3/envs/cs109a/lib/python3.9/site-packages/pandas/core/reshape/merge.py\u001b[0m in \u001b[0;36m__init__\u001b[0;34m(self, left, right, how, on, left_on, right_on, axis, left_index, right_index, sort, suffixes, copy, indicator, validate)\u001b[0m\n\u001b[1;32m    698\u001b[0m             \u001b[0mself\u001b[0m\u001b[0;34m.\u001b[0m\u001b[0mright_join_keys\u001b[0m\u001b[0;34m,\u001b[0m\u001b[0;34m\u001b[0m\u001b[0;34m\u001b[0m\u001b[0m\n\u001b[1;32m    699\u001b[0m             \u001b[0mself\u001b[0m\u001b[0;34m.\u001b[0m\u001b[0mjoin_names\u001b[0m\u001b[0;34m,\u001b[0m\u001b[0;34m\u001b[0m\u001b[0;34m\u001b[0m\u001b[0m\n\u001b[0;32m--> 700\u001b[0;31m         ) = self._get_merge_keys()\n\u001b[0m\u001b[1;32m    701\u001b[0m \u001b[0;34m\u001b[0m\u001b[0m\n\u001b[1;32m    702\u001b[0m         \u001b[0;31m# validate the merge keys dtypes. We may need to coerce\u001b[0m\u001b[0;34m\u001b[0m\u001b[0;34m\u001b[0m\u001b[0m\n",
      "\u001b[0;32m/opt/anaconda3/envs/cs109a/lib/python3.9/site-packages/pandas/core/reshape/merge.py\u001b[0m in \u001b[0;36m_get_merge_keys\u001b[0;34m(self)\u001b[0m\n\u001b[1;32m   1090\u001b[0m                     \u001b[0;32mif\u001b[0m \u001b[0;32mnot\u001b[0m \u001b[0mis_rkey\u001b[0m\u001b[0;34m(\u001b[0m\u001b[0mrk\u001b[0m\u001b[0;34m)\u001b[0m\u001b[0;34m:\u001b[0m\u001b[0;34m\u001b[0m\u001b[0;34m\u001b[0m\u001b[0m\n\u001b[1;32m   1091\u001b[0m                         \u001b[0;32mif\u001b[0m \u001b[0mrk\u001b[0m \u001b[0;32mis\u001b[0m \u001b[0;32mnot\u001b[0m \u001b[0;32mNone\u001b[0m\u001b[0;34m:\u001b[0m\u001b[0;34m\u001b[0m\u001b[0;34m\u001b[0m\u001b[0m\n\u001b[0;32m-> 1092\u001b[0;31m                             \u001b[0mright_keys\u001b[0m\u001b[0;34m.\u001b[0m\u001b[0mappend\u001b[0m\u001b[0;34m(\u001b[0m\u001b[0mright\u001b[0m\u001b[0;34m.\u001b[0m\u001b[0m_get_label_or_level_values\u001b[0m\u001b[0;34m(\u001b[0m\u001b[0mrk\u001b[0m\u001b[0;34m)\u001b[0m\u001b[0;34m)\u001b[0m\u001b[0;34m\u001b[0m\u001b[0;34m\u001b[0m\u001b[0m\n\u001b[0m\u001b[1;32m   1093\u001b[0m                         \u001b[0;32melse\u001b[0m\u001b[0;34m:\u001b[0m\u001b[0;34m\u001b[0m\u001b[0;34m\u001b[0m\u001b[0m\n\u001b[1;32m   1094\u001b[0m                             \u001b[0;31m# work-around for merge_asof(right_index=True)\u001b[0m\u001b[0;34m\u001b[0m\u001b[0;34m\u001b[0m\u001b[0m\n",
      "\u001b[0;32m/opt/anaconda3/envs/cs109a/lib/python3.9/site-packages/pandas/core/generic.py\u001b[0m in \u001b[0;36m_get_label_or_level_values\u001b[0;34m(self, key, axis)\u001b[0m\n\u001b[1;32m   1777\u001b[0m             \u001b[0mvalues\u001b[0m \u001b[0;34m=\u001b[0m \u001b[0mself\u001b[0m\u001b[0;34m.\u001b[0m\u001b[0maxes\u001b[0m\u001b[0;34m[\u001b[0m\u001b[0maxis\u001b[0m\u001b[0;34m]\u001b[0m\u001b[0;34m.\u001b[0m\u001b[0mget_level_values\u001b[0m\u001b[0;34m(\u001b[0m\u001b[0mkey\u001b[0m\u001b[0;34m)\u001b[0m\u001b[0;34m.\u001b[0m\u001b[0m_values\u001b[0m\u001b[0;34m\u001b[0m\u001b[0;34m\u001b[0m\u001b[0m\n\u001b[1;32m   1778\u001b[0m         \u001b[0;32melse\u001b[0m\u001b[0;34m:\u001b[0m\u001b[0;34m\u001b[0m\u001b[0;34m\u001b[0m\u001b[0m\n\u001b[0;32m-> 1779\u001b[0;31m             \u001b[0;32mraise\u001b[0m \u001b[0mKeyError\u001b[0m\u001b[0;34m(\u001b[0m\u001b[0mkey\u001b[0m\u001b[0;34m)\u001b[0m\u001b[0;34m\u001b[0m\u001b[0;34m\u001b[0m\u001b[0m\n\u001b[0m\u001b[1;32m   1780\u001b[0m \u001b[0;34m\u001b[0m\u001b[0m\n\u001b[1;32m   1781\u001b[0m         \u001b[0;31m# Check for duplicates\u001b[0m\u001b[0;34m\u001b[0m\u001b[0;34m\u001b[0m\u001b[0m\n",
      "\u001b[0;31mKeyError\u001b[0m: 'org_uuid'"
     ]
    }
   ],
   "source": [
    "full_rounds_df = angel_df.merge(seed_df,how='left',on='org_uuid')\n",
    "full_rounds_df = full_rounds_df.merge(SeriesA_df,how='left',on='org_uuid')\n",
    "full_rounds_df = full_rounds_df.merge(SeriesB_df,how='left',on='org_uuid')"
   ]
  },
  {
   "cell_type": "code",
   "execution_count": null,
   "metadata": {},
   "outputs": [],
   "source": [
    "full_rounds_df.to_csv('clean_data/rounds.csv')\n",
    "organizations_df.to_csv('clean_data/organizations.csv')\n",
    "full_people_df.to_csv('clean_data/people.csv')"
   ]
  },
  {
   "cell_type": "code",
   "execution_count": null,
   "metadata": {},
   "outputs": [],
   "source": [
    "\"\"\"\n",
    "# Create a bar plot for companies per state\n",
    "\n",
    "to_plot_states = organizations_df.groupby(by='state_code').count().reset_index()[['state_code','uuid']]\n",
    "sns.set_theme(style=\"whitegrid\")\n",
    "fig, ax = plt.subplots(1,1, figsize=(10,5))\n",
    "\n",
    "ax = sns.barplot(x=\"state_code\", y=\"uuid\", data=to_plot_states)\n",
    "ax.set_xticklabels(to_plot_states[\"state_code\"],rotation=45,fontsize=10)\n",
    "\n",
    "plt.show()\n",
    "\"\"\""
   ]
  },
  {
   "cell_type": "code",
   "execution_count": null,
   "metadata": {},
   "outputs": [],
   "source": []
  },
  {
   "cell_type": "code",
   "execution_count": null,
   "metadata": {},
   "outputs": [],
   "source": []
  },
  {
   "cell_type": "code",
   "execution_count": null,
   "metadata": {},
   "outputs": [],
   "source": []
  },
  {
   "cell_type": "code",
   "execution_count": null,
   "metadata": {},
   "outputs": [],
   "source": []
  },
  {
   "cell_type": "code",
   "execution_count": null,
   "metadata": {},
   "outputs": [],
   "source": []
  },
  {
   "cell_type": "code",
   "execution_count": null,
   "metadata": {},
   "outputs": [],
   "source": []
  }
 ],
 "metadata": {
  "kernelspec": {
   "display_name": "Python 3",
   "language": "python",
   "name": "python3"
  },
  "language_info": {
   "codemirror_mode": {
    "name": "ipython",
    "version": 3
   },
   "file_extension": ".py",
   "mimetype": "text/x-python",
   "name": "python",
   "nbconvert_exporter": "python",
   "pygments_lexer": "ipython3",
   "version": "3.9.7"
  }
 },
 "nbformat": 4,
 "nbformat_minor": 4
}
